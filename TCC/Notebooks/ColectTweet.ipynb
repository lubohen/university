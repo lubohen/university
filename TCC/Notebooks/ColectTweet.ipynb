{
 "metadata": {
  "language_info": {
   "codemirror_mode": {
    "name": "ipython",
    "version": 3
   },
   "file_extension": ".py",
   "mimetype": "text/x-python",
   "name": "python",
   "nbconvert_exporter": "python",
   "pygments_lexer": "ipython3",
   "version": "3.7.6-final"
  },
  "orig_nbformat": 2,
  "kernelspec": {
   "name": "python3",
   "display_name": "Python 3"
  }
 },
 "nbformat": 4,
 "nbformat_minor": 2,
 "cells": [
  {
   "cell_type": "code",
   "execution_count": 1,
   "metadata": {},
   "outputs": [],
   "source": [
    "import tweepy as tw\n",
    "import json"
   ]
  },
  {
   "cell_type": "code",
   "execution_count": 2,
   "metadata": {},
   "outputs": [],
   "source": [
    "ACCESS_TOKEN = \"569021798-GeVsTNV2NlVxyXLQq5CcYA6BiRnc84wnz6pKcDYV\"\n",
    "ACCESS_TOKEN_SECRET = \"tatshAIK1g1PYnZCG0aFpwdBYoMY5mHlnQaBw7FoIwaHJ\"\n",
    "CONSUMER_KEY = \"KZ8TgAeescvjJ1x8tvha5HDWW\"\n",
    "CONSUMER_SECRET = \"jd5w3bGBGOJt3Ik90cAOCTT0ECVD19d754R9bUlS1jKLlX1a8O\""
   ]
  },
  {
   "cell_type": "code",
   "execution_count": 3,
   "metadata": {},
   "outputs": [],
   "source": [
    "auth = tw.OAuthHandler(CONSUMER_KEY,CONSUMER_SECRET)\n",
    "auth.set_access_token(ACCESS_TOKEN, ACCESS_TOKEN_SECRET)\n",
    "api = tw.API(auth, wait_on_rate_limit=True, wait_on_rate_limit_notify=True)"
   ]
  },
  {
   "cell_type": "code",
   "execution_count": 10,
   "metadata": {
    "tags": []
   },
   "outputs": [],
   "source": [
    "busca_arara = \"Arara-Azul\" + \"-filter:retweets\"\n",
    "busca_tamandua = \"Tamanduá-Bandeira\" + \" -filter:retweets\"\n",
    "\n",
    "BuscaCursor_= tw.Cursor(api.search,\n",
    "                        q=busca_arara,\n",
    "                        lang=\"pt-br\",\n",
    "                        tweet_mode = \"extended\" .encode('unicode-escape').decode('utf-8')).items(1000)\n",
    "\n",
    "BuscaCursor= tw.Cursor(api.search,\n",
    "                        q=busca_tamandua,\n",
    "                        lang=\"pt-br\",\n",
    "                        tweet_mode = \"extended\" .encode('unicode-escape').decode('utf-8')).items(1000)\n",
    "\n",
    "inf_= [[tweet.full_text,tweet.user.name,tweet.user.screen_name,tweet.created_at,tweet.user.location,tweet.retweet_count,tweet.favorite_count,tweet.user.friends_count,tweet.user.followers_count]for tweet in BuscaCursor_]\n",
    "inf= [[tweet.full_text,tweet.user.name,tweet.user.screen_name,tweet.created_at,tweet.user.location,tweet.retweet_count,tweet.favorite_count,tweet.user.friends_count,tweet.user.followers_count]for tweet in BuscaCursor]\n"
   ]
  },
  {
   "cell_type": "code",
   "execution_count": 6,
   "metadata": {},
   "outputs": [
    {
     "output_type": "execute_result",
     "data": {
      "text/plain": [
       "[['Minha família é louca demais kkk\\nMeu tio perguntando pra outro tio que trabalha no IBAMA quanto é uma arara azul',\n",
       "  'Pablo Lemes',\n",
       "  'sou_pablo2',\n",
       "  datetime.datetime(2020, 11, 29, 18, 1, 21),\n",
       "  'Brasília, Brasil',\n",
       "  0,\n",
       "  1,\n",
       "  271,\n",
       "  244],\n",
       " ['Se é azul e fala, só pode ser uma arara https://t.co/3nyoDn94ws',\n",
       "  'MMD&Doider 💃',\n",
       "  'BeckieApenas',\n",
       "  datetime.datetime(2020, 11, 29, 17, 18),\n",
       "  'Manaus, Brazil',\n",
       "  0,\n",
       "  0,\n",
       "  192,\n",
       "  105]]"
      ]
     },
     "metadata": {},
     "execution_count": 6
    }
   ],
   "source": [
    "inf_[:2]\n",
    "inf[:2]"
   ]
  },
  {
   "cell_type": "code",
   "execution_count": 11,
   "metadata": {},
   "outputs": [
    {
     "output_type": "execute_result",
     "data": {
      "text/plain": [
       "                                               Tweet   Creation_date  \\\n",
       "0  Minha família é louca demais kkk\\nMeu tio perg...     Pablo Lemes   \n",
       "1  Se é azul e fala, só pode ser uma arara https:...    MMD&Doider 💃   \n",
       "2  E ontem o cara me aparece com uma arara azul n...     Vanderson 🦅   \n",
       "3  @hallwayghost KAKAKKAKA a arara azul era de um...  duda • 📖: hdo⁵   \n",
       "4  @twentyhalpert eu moro interior to acostumada ...          pâmela   \n",
       "\n",
       "            Name                User               location  retweets  \\\n",
       "0     sou_pablo2 2020-11-29 18:01:21       Brasília, Brasil         0   \n",
       "1   BeckieApenas 2020-11-29 17:18:00         Manaus, Brazil         0   \n",
       "2       Vaandoo_ 2020-11-29 14:55:09  São Bernardo do Campo         0   \n",
       "3  twentyhalpert 2020-11-29 03:44:30                                0   \n",
       "4   hallwayghost 2020-11-29 03:40:04              🏡 = frens         0   \n",
       "\n",
       "   favorites  friends_count  followers_count  \n",
       "0          1            271              244  \n",
       "1          0            192              105  \n",
       "2          1            376              577  \n",
       "3          0           6652             6693  \n",
       "4          0            586              641  "
      ],
      "text/html": "<div>\n<style scoped>\n    .dataframe tbody tr th:only-of-type {\n        vertical-align: middle;\n    }\n\n    .dataframe tbody tr th {\n        vertical-align: top;\n    }\n\n    .dataframe thead th {\n        text-align: right;\n    }\n</style>\n<table border=\"1\" class=\"dataframe\">\n  <thead>\n    <tr style=\"text-align: right;\">\n      <th></th>\n      <th>Tweet</th>\n      <th>Creation_date</th>\n      <th>Name</th>\n      <th>User</th>\n      <th>location</th>\n      <th>retweets</th>\n      <th>favorites</th>\n      <th>friends_count</th>\n      <th>followers_count</th>\n    </tr>\n  </thead>\n  <tbody>\n    <tr>\n      <th>0</th>\n      <td>Minha família é louca demais kkk\\nMeu tio perg...</td>\n      <td>Pablo Lemes</td>\n      <td>sou_pablo2</td>\n      <td>2020-11-29 18:01:21</td>\n      <td>Brasília, Brasil</td>\n      <td>0</td>\n      <td>1</td>\n      <td>271</td>\n      <td>244</td>\n    </tr>\n    <tr>\n      <th>1</th>\n      <td>Se é azul e fala, só pode ser uma arara https:...</td>\n      <td>MMD&amp;Doider 💃</td>\n      <td>BeckieApenas</td>\n      <td>2020-11-29 17:18:00</td>\n      <td>Manaus, Brazil</td>\n      <td>0</td>\n      <td>0</td>\n      <td>192</td>\n      <td>105</td>\n    </tr>\n    <tr>\n      <th>2</th>\n      <td>E ontem o cara me aparece com uma arara azul n...</td>\n      <td>Vanderson 🦅</td>\n      <td>Vaandoo_</td>\n      <td>2020-11-29 14:55:09</td>\n      <td>São Bernardo do Campo</td>\n      <td>0</td>\n      <td>1</td>\n      <td>376</td>\n      <td>577</td>\n    </tr>\n    <tr>\n      <th>3</th>\n      <td>@hallwayghost KAKAKKAKA a arara azul era de um...</td>\n      <td>duda • 📖: hdo⁵</td>\n      <td>twentyhalpert</td>\n      <td>2020-11-29 03:44:30</td>\n      <td></td>\n      <td>0</td>\n      <td>0</td>\n      <td>6652</td>\n      <td>6693</td>\n    </tr>\n    <tr>\n      <th>4</th>\n      <td>@twentyhalpert eu moro interior to acostumada ...</td>\n      <td>pâmela</td>\n      <td>hallwayghost</td>\n      <td>2020-11-29 03:40:04</td>\n      <td>🏡 = frens</td>\n      <td>0</td>\n      <td>0</td>\n      <td>586</td>\n      <td>641</td>\n    </tr>\n  </tbody>\n</table>\n</div>"
     },
     "metadata": {},
     "execution_count": 11
    }
   ],
   "source": [
    "import pandas as pd \n",
    "\n",
    "tweet_text_arara = pd.DataFrame(data=inf_, columns=['Tweet','Creation_date', 'Name','User','location','retweets','favorites','friends_count','followers_count'])\n",
    "tweet_text_arara.head()"
   ]
  },
  {
   "cell_type": "code",
   "execution_count": 12,
   "metadata": {},
   "outputs": [
    {
     "output_type": "execute_result",
     "data": {
      "text/plain": [
       "                                               Tweet Creation_date  \\\n",
       "0  @clubpenguy caralho mano eu adoro Tamanduá Ban...             🥑   \n",
       "1  @clubpenguy ta, mas tamanduá bandeira se alime...      Manssono   \n",
       "2  Tamanduá Bandeira se alimentando de formigas e...        linora   \n",
       "3  @g1 O cara aspirava mais que tamanduá bandeira...   Felipe Jotz   \n",
       "4  @CincinnatiZoo We call her Tamanduá in Brazil....  Juliana Lins   \n",
       "\n",
       "          Name                User   location  retweets  favorites  \\\n",
       "0  lagartoplas 2020-11-29 18:53:22   ela/dela         0          0   \n",
       "1    Manssono2 2020-11-29 18:36:41                    0          0   \n",
       "2   clubpenguy 2020-11-29 18:29:44                    0          0   \n",
       "3   FelipeJotz 2020-11-29 15:41:49  Hong Kong         0          0   \n",
       "4   juzin_lins 2020-11-29 14:06:50                    0          4   \n",
       "\n",
       "   friends_count  followers_count  \n",
       "0           1141              405  \n",
       "1            117               15  \n",
       "2            146              173  \n",
       "3            124               53  \n",
       "4            265               15  "
      ],
      "text/html": "<div>\n<style scoped>\n    .dataframe tbody tr th:only-of-type {\n        vertical-align: middle;\n    }\n\n    .dataframe tbody tr th {\n        vertical-align: top;\n    }\n\n    .dataframe thead th {\n        text-align: right;\n    }\n</style>\n<table border=\"1\" class=\"dataframe\">\n  <thead>\n    <tr style=\"text-align: right;\">\n      <th></th>\n      <th>Tweet</th>\n      <th>Creation_date</th>\n      <th>Name</th>\n      <th>User</th>\n      <th>location</th>\n      <th>retweets</th>\n      <th>favorites</th>\n      <th>friends_count</th>\n      <th>followers_count</th>\n    </tr>\n  </thead>\n  <tbody>\n    <tr>\n      <th>0</th>\n      <td>@clubpenguy caralho mano eu adoro Tamanduá Ban...</td>\n      <td>🥑</td>\n      <td>lagartoplas</td>\n      <td>2020-11-29 18:53:22</td>\n      <td>ela/dela</td>\n      <td>0</td>\n      <td>0</td>\n      <td>1141</td>\n      <td>405</td>\n    </tr>\n    <tr>\n      <th>1</th>\n      <td>@clubpenguy ta, mas tamanduá bandeira se alime...</td>\n      <td>Manssono</td>\n      <td>Manssono2</td>\n      <td>2020-11-29 18:36:41</td>\n      <td></td>\n      <td>0</td>\n      <td>0</td>\n      <td>117</td>\n      <td>15</td>\n    </tr>\n    <tr>\n      <th>2</th>\n      <td>Tamanduá Bandeira se alimentando de formigas e...</td>\n      <td>linora</td>\n      <td>clubpenguy</td>\n      <td>2020-11-29 18:29:44</td>\n      <td></td>\n      <td>0</td>\n      <td>0</td>\n      <td>146</td>\n      <td>173</td>\n    </tr>\n    <tr>\n      <th>3</th>\n      <td>@g1 O cara aspirava mais que tamanduá bandeira...</td>\n      <td>Felipe Jotz</td>\n      <td>FelipeJotz</td>\n      <td>2020-11-29 15:41:49</td>\n      <td>Hong Kong</td>\n      <td>0</td>\n      <td>0</td>\n      <td>124</td>\n      <td>53</td>\n    </tr>\n    <tr>\n      <th>4</th>\n      <td>@CincinnatiZoo We call her Tamanduá in Brazil....</td>\n      <td>Juliana Lins</td>\n      <td>juzin_lins</td>\n      <td>2020-11-29 14:06:50</td>\n      <td></td>\n      <td>0</td>\n      <td>4</td>\n      <td>265</td>\n      <td>15</td>\n    </tr>\n  </tbody>\n</table>\n</div>"
     },
     "metadata": {},
     "execution_count": 12
    }
   ],
   "source": [
    "tweet_text_tamandua = pd.DataFrame(data=inf, columns=['Tweet','Creation_date', 'Name','User','location','retweets','favorites','friends_count','followers_count'])\n",
    "tweet_text_tamandua.head()"
   ]
  },
  {
   "cell_type": "code",
   "execution_count": 13,
   "metadata": {},
   "outputs": [],
   "source": [
    "tweet_text_arara.to_csv('AraraAzul_20201129.csv', sep=';', index= False, header = True, encoding='utf-8')\n",
    "tweet_text_tamandua.to_csv('TamanduaBandeira_20201129.csv', sep=';', index= False, header = True, encoding='utf-8')"
   ]
  }
 ]
}