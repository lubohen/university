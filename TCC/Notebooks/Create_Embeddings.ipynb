{
 "metadata": {
  "language_info": {
   "codemirror_mode": {
    "name": "ipython",
    "version": 3
   },
   "file_extension": ".py",
   "mimetype": "text/x-python",
   "name": "python",
   "nbconvert_exporter": "python",
   "pygments_lexer": "ipython3",
   "version": "3.7.7-final"
  },
  "orig_nbformat": 2,
  "kernelspec": {
   "name": "python37764bituspenvconda3aaf4a122e974252b54ca0bba236eb6c",
   "display_name": "Python 3.7.7 64-bit ('uspenv': conda)"
  }
 },
 "nbformat": 4,
 "nbformat_minor": 2,
 "cells": [
  {
   "cell_type": "code",
   "execution_count": 1,
   "metadata": {},
   "outputs": [],
   "source": [
    "import pandas as pd \n",
    "import numpy as np"
   ]
  },
  {
   "cell_type": "code",
   "execution_count": 2,
   "metadata": {},
   "outputs": [
    {
     "output_type": "execute_result",
     "data": {
      "text/plain": [
       "                                               Tweet   Creation_date  \\\n",
       "0  Minha família é louca demais kkk\\nMeu tio perg...     Pablo Lemes   \n",
       "1  Se é azul e fala, só pode ser uma arara https:...    MMD&Doider 💃   \n",
       "2  E ontem o cara me aparece com uma arara azul n...     Vanderson 🦅   \n",
       "3  @hallwayghost KAKAKKAKA a arara azul era de um...  duda • 📖: hdo⁵   \n",
       "4  @twentyhalpert eu moro interior to acostumada ...          pâmela   \n",
       "\n",
       "            Name              User               location  retweets  \\\n",
       "0     sou_pablo2  29/11/2020 18:01       Brasília, Brasil         0   \n",
       "1   BeckieApenas  29/11/2020 17:18         Manaus, Brazil         0   \n",
       "2       Vaandoo_  29/11/2020 14:55  São Bernardo do Campo         0   \n",
       "3  twentyhalpert  29/11/2020 03:44                    NaN         0   \n",
       "4   hallwayghost  29/11/2020 03:40              🏡 = frens         0   \n",
       "\n",
       "   favorites  friends_count  followers_count  Classification  \n",
       "0          1            271              244              -1  \n",
       "1          0            192              105               0  \n",
       "2          1            376              577              -1  \n",
       "3          0           6652             6693              -1  \n",
       "4          0            586              641               0  "
      ],
      "text/html": "<div>\n<style scoped>\n    .dataframe tbody tr th:only-of-type {\n        vertical-align: middle;\n    }\n\n    .dataframe tbody tr th {\n        vertical-align: top;\n    }\n\n    .dataframe thead th {\n        text-align: right;\n    }\n</style>\n<table border=\"1\" class=\"dataframe\">\n  <thead>\n    <tr style=\"text-align: right;\">\n      <th></th>\n      <th>Tweet</th>\n      <th>Creation_date</th>\n      <th>Name</th>\n      <th>User</th>\n      <th>location</th>\n      <th>retweets</th>\n      <th>favorites</th>\n      <th>friends_count</th>\n      <th>followers_count</th>\n      <th>Classification</th>\n    </tr>\n  </thead>\n  <tbody>\n    <tr>\n      <th>0</th>\n      <td>Minha família é louca demais kkk\\nMeu tio perg...</td>\n      <td>Pablo Lemes</td>\n      <td>sou_pablo2</td>\n      <td>29/11/2020 18:01</td>\n      <td>Brasília, Brasil</td>\n      <td>0</td>\n      <td>1</td>\n      <td>271</td>\n      <td>244</td>\n      <td>-1</td>\n    </tr>\n    <tr>\n      <th>1</th>\n      <td>Se é azul e fala, só pode ser uma arara https:...</td>\n      <td>MMD&amp;Doider 💃</td>\n      <td>BeckieApenas</td>\n      <td>29/11/2020 17:18</td>\n      <td>Manaus, Brazil</td>\n      <td>0</td>\n      <td>0</td>\n      <td>192</td>\n      <td>105</td>\n      <td>0</td>\n    </tr>\n    <tr>\n      <th>2</th>\n      <td>E ontem o cara me aparece com uma arara azul n...</td>\n      <td>Vanderson 🦅</td>\n      <td>Vaandoo_</td>\n      <td>29/11/2020 14:55</td>\n      <td>São Bernardo do Campo</td>\n      <td>0</td>\n      <td>1</td>\n      <td>376</td>\n      <td>577</td>\n      <td>-1</td>\n    </tr>\n    <tr>\n      <th>3</th>\n      <td>@hallwayghost KAKAKKAKA a arara azul era de um...</td>\n      <td>duda • 📖: hdo⁵</td>\n      <td>twentyhalpert</td>\n      <td>29/11/2020 03:44</td>\n      <td>NaN</td>\n      <td>0</td>\n      <td>0</td>\n      <td>6652</td>\n      <td>6693</td>\n      <td>-1</td>\n    </tr>\n    <tr>\n      <th>4</th>\n      <td>@twentyhalpert eu moro interior to acostumada ...</td>\n      <td>pâmela</td>\n      <td>hallwayghost</td>\n      <td>29/11/2020 03:40</td>\n      <td>🏡 = frens</td>\n      <td>0</td>\n      <td>0</td>\n      <td>586</td>\n      <td>641</td>\n      <td>0</td>\n    </tr>\n  </tbody>\n</table>\n</div>"
     },
     "metadata": {},
     "execution_count": 2
    }
   ],
   "source": [
    "## IMPORTANDO O DATASET COM OS TWEETS CLASSIFICADOS\n",
    "\n",
    "dataset_arara = pd.read_csv('Datasets\\AraraAzul_Class_20201129.csv', delimiter=\";\", encoding=\"utf-8\")\n",
    "dataset_arara.head() # Validação dos 5 primeiros registros"
   ]
  },
  {
   "cell_type": "code",
   "execution_count": 3,
   "metadata": {},
   "outputs": [
    {
     "output_type": "execute_result",
     "data": {
      "text/plain": [
       "                                               Tweet   Creation_date  \\\n",
       "0  Minha família é louca demais kkk\\nMeu tio perg...     Pablo Lemes   \n",
       "1  Se é azul e fala, só pode ser uma arara https:...    MMD&Doider 💃   \n",
       "2  E ontem o cara me aparece com uma arara azul n...     Vanderson 🦅   \n",
       "3  @hallwayghost KAKAKKAKA a arara azul era de um...  duda • 📖: hdo⁵   \n",
       "4  @twentyhalpert eu moro interior to acostumada ...          pâmela   \n",
       "\n",
       "            Name              User               location  retweets  \\\n",
       "0     sou_pablo2  29/11/2020 18:01       Brasília, Brasil         0   \n",
       "1   BeckieApenas  29/11/2020 17:18         Manaus, Brazil         0   \n",
       "2       Vaandoo_  29/11/2020 14:55  São Bernardo do Campo         0   \n",
       "3  twentyhalpert  29/11/2020 03:44                    NaN         0   \n",
       "4   hallwayghost  29/11/2020 03:40              🏡 = frens         0   \n",
       "\n",
       "   favorites  friends_count  followers_count  Classification  \n",
       "0          1            271              244              -1  \n",
       "1          0            192              105               0  \n",
       "2          1            376              577              -1  \n",
       "3          0           6652             6693              -1  \n",
       "4          0            586              641               0  "
      ],
      "text/html": "<div>\n<style scoped>\n    .dataframe tbody tr th:only-of-type {\n        vertical-align: middle;\n    }\n\n    .dataframe tbody tr th {\n        vertical-align: top;\n    }\n\n    .dataframe thead th {\n        text-align: right;\n    }\n</style>\n<table border=\"1\" class=\"dataframe\">\n  <thead>\n    <tr style=\"text-align: right;\">\n      <th></th>\n      <th>Tweet</th>\n      <th>Creation_date</th>\n      <th>Name</th>\n      <th>User</th>\n      <th>location</th>\n      <th>retweets</th>\n      <th>favorites</th>\n      <th>friends_count</th>\n      <th>followers_count</th>\n      <th>Classification</th>\n    </tr>\n  </thead>\n  <tbody>\n    <tr>\n      <th>0</th>\n      <td>Minha família é louca demais kkk\\nMeu tio perg...</td>\n      <td>Pablo Lemes</td>\n      <td>sou_pablo2</td>\n      <td>29/11/2020 18:01</td>\n      <td>Brasília, Brasil</td>\n      <td>0</td>\n      <td>1</td>\n      <td>271</td>\n      <td>244</td>\n      <td>-1</td>\n    </tr>\n    <tr>\n      <th>1</th>\n      <td>Se é azul e fala, só pode ser uma arara https:...</td>\n      <td>MMD&amp;Doider 💃</td>\n      <td>BeckieApenas</td>\n      <td>29/11/2020 17:18</td>\n      <td>Manaus, Brazil</td>\n      <td>0</td>\n      <td>0</td>\n      <td>192</td>\n      <td>105</td>\n      <td>0</td>\n    </tr>\n    <tr>\n      <th>2</th>\n      <td>E ontem o cara me aparece com uma arara azul n...</td>\n      <td>Vanderson 🦅</td>\n      <td>Vaandoo_</td>\n      <td>29/11/2020 14:55</td>\n      <td>São Bernardo do Campo</td>\n      <td>0</td>\n      <td>1</td>\n      <td>376</td>\n      <td>577</td>\n      <td>-1</td>\n    </tr>\n    <tr>\n      <th>3</th>\n      <td>@hallwayghost KAKAKKAKA a arara azul era de um...</td>\n      <td>duda • 📖: hdo⁵</td>\n      <td>twentyhalpert</td>\n      <td>29/11/2020 03:44</td>\n      <td>NaN</td>\n      <td>0</td>\n      <td>0</td>\n      <td>6652</td>\n      <td>6693</td>\n      <td>-1</td>\n    </tr>\n    <tr>\n      <th>4</th>\n      <td>@twentyhalpert eu moro interior to acostumada ...</td>\n      <td>pâmela</td>\n      <td>hallwayghost</td>\n      <td>29/11/2020 03:40</td>\n      <td>🏡 = frens</td>\n      <td>0</td>\n      <td>0</td>\n      <td>586</td>\n      <td>641</td>\n      <td>0</td>\n    </tr>\n  </tbody>\n</table>\n</div>"
     },
     "metadata": {},
     "execution_count": 3
    }
   ],
   "source": [
    "## Convertendo a coluna target (classificação) para tipo inteiro\n",
    "\n",
    "dataset_arara[\"Classification\"] = dataset_arara[\"Classification\"].astype(int)\n",
    "dataset_arara.head()"
   ]
  },
  {
   "cell_type": "code",
   "execution_count": 4,
   "metadata": {},
   "outputs": [
    {
     "output_type": "stream",
     "name": "stdout",
     "text": [
      "['famíl louc demal kkk tio pergunt pra outr tio trabalh ibam quant arar azul', 'azul fal pod ser arar', 'ont car aparec arar azul helip tio kkkkkkk', 'hallwayghost kakakkak arar azul moç q tav prac sei pod ter arar azul aq tbm capiv kkkkkkk amg persegu dua filhot', 'twentyhalpert mor interi to acostum lagart sap maritac capiv temp tod dai vc met arar azul', 'hallwayghost aliás moç arar azul tav doi gold lind', 'séri hj vi arar azul ombr moç vi sap aq dentr cas porc esp sub árvor dp tav debaix árvor morceg saiu lá tom mó sust', 'hoj shopping pass um car cabel azul aí car pergunt pro outr vc gost arar outr respond sim niss min tav pass junt cabel vermelh solt pra vc escolh arar azul arar vermelh', 'hotwhilson ach cert zo arar azul kkkkkkkkkk', 'nekocolor acert dev beij cor arar azul']\n"
     ]
    }
   ],
   "source": [
    "## Processo de Limpeza dos dados\n",
    "\n",
    "dataset = dataset_arara\n",
    "\n",
    "import re\n",
    "import nltk\n",
    "from nltk.corpus import stopwords\n",
    "from nltk.stem.rslp import RSLPStemmer\n",
    "rslp = RSLPStemmer()\n",
    "stopwords = stopwords.words('portuguese')\n",
    "documentos = []\n",
    "#testedoc = []\n",
    "\n",
    "\n",
    "for i in range(0, len(dataset)):\n",
    "    tweet = re.sub(\"([^0-9A-Za-záàâãéèêíïóôõöúçñÁÀÂÃÉÈÍÏÓÔÕÖÚÇÑ \\t])|(\\w+:\\/\\/\\S+)\", \" \", dataset['Tweet'][i])\n",
    "    tweet = tweet.lower()\n",
    "    tweet = tweet.split()\n",
    "    tweet = [palavra for palavra in tweet if not palavra in stopwords] # Remoção de Stopwords\n",
    "    tweet = [rslp.stem(palavra) for palavra in tweet]   #Stemming\n",
    "    tweet = ' '.join(tweet)\n",
    "    documentos.append(tweet)\n",
    "\n",
    "print(documentos[:10])"
   ]
  },
  {
   "source": [
    "# Criação da Matriz TF-IDF\n"
   ],
   "cell_type": "markdown",
   "metadata": {}
  },
  {
   "cell_type": "code",
   "execution_count": 5,
   "metadata": {},
   "outputs": [],
   "source": [
    "import gensim\n",
    "import pprint\n",
    "from gensim import corpora\n",
    "from gensim.utils import simple_preprocess\n",
    "from gensim import models"
   ]
  },
  {
   "cell_type": "code",
   "execution_count": 6,
   "metadata": {},
   "outputs": [],
   "source": [
    "doc_list = documentos"
   ]
  },
  {
   "cell_type": "code",
   "execution_count": 7,
   "metadata": {
    "tags": []
   },
   "outputs": [],
   "source": [
    "doc_tokenized = [simple_preprocess(doc) for doc in doc_list]"
   ]
  },
  {
   "cell_type": "code",
   "execution_count": 8,
   "metadata": {},
   "outputs": [],
   "source": [
    "dictionary = corpora.Dictionary()"
   ]
  },
  {
   "cell_type": "code",
   "execution_count": 9,
   "metadata": {
    "tags": []
   },
   "outputs": [],
   "source": [
    "BoW_corpus = [dictionary.doc2bow(doc, allow_update=True) for doc in doc_tokenized]"
   ]
  },
  {
   "cell_type": "code",
   "execution_count": 10,
   "metadata": {
    "tags": [
     "outputPrepend"
    ]
   },
   "outputs": [
    {
     "output_type": "stream",
     "name": "stdout",
     "text": [
      "cois', 1], ['mulh', 1], ['começ', 1], ['enquant', 1], ['cant', 1], ['encar', 1], ['vê', 1]]\n[['arar', 1], ['azul', 1], ['pra', 1], ['coloc', 1], ['ai', 1], ['cheg', 1], ['sukiraw', 1], ['samb', 1], ['vai', 1], ['danç', 1]]\n[['arar', 1], ['azul', 1], ['ai', 1], ['aql', 1], ['film', 1]]\n[['arar', 1], ['azul', 1], ['ecbah', 1]]\n[['arar', 1], ['azul', 1], ['ser', 1], ['vou', 1], ['akaviann', 1], ['bel', 1], ['folhazdeouton', 1], ['piqu', 1]]\n[['arar', 1], ['azul', 1], ['nad', 1], ['apel', 1], ['juu', 1], ['júi', 1]]\n[['arar', 1], ['azul', 1], ['fal', 1], ['pass', 1], ['amo', 1], ['muit', 1], ['caus', 1], ['ano', 1], ['cntg', 1], ['dima', 1], ['falt', 1], ['gnt', 1], ['prox', 1], ['sint', 1], ['tal', 1]]\n[['arar', 1], ['azul', 1], ['fez', 1], ['ataqu', 1], ['efeit', 1], ['isabelasoaresl', 1]]\n[['arar', 1], ['azul', 1], ['pra', 1], ['vou', 1], ['cant', 1], ['film', 1], ['assist', 1], ['ganh', 1], ['serotonin', 1]]\n[['arar', 1], ['azul', 1], ['ped', 1], ['jvnun', 1], ['oalterig', 1]]\n[['arar', 1], ['azul', 1], ['friday', 1], ['apoi', 1], ['campanh', 1], ['consum', 1], ['green', 1], ['impact', 1], ['institut', 1], ['organic', 1], ['posi', 1], ['simpl', 1], ['traz', 1]]\n[['arar', 1], ['azul', 1], ['to', 1], ['praç', 1], ['parec', 1], ['feliz', 1], ['krlh', 1], ['fim', 1], ['paraís', 1], ['real', 1], ['tard', 1]]\n[['arar', 1], ['azul', 1], ['aq', 1], ['tav', 1], ['cas', 1], ['saiu', 1], ['aí', 1], ['compr', 1], ['aind', 1], ['mulh', 1], ['nunc', 1], ['grit', 1], ['nad', 1], ['amarel', 1], ['cachorr', 1], ['corr', 1], ['med', 1], ['merma', 1], ['namor', 1], ['pert', 1], ['pirulit', 1], ['tamanh', 1], ['tant', 1]]\n[['arar', 1], ['azul', 1], ['outr', 1], ['aq', 1], ['vc', 1], ['tom', 1], ['fic', 1], ['brasil', 1], ['pens', 1], ['pesso', 1], ['bic', 1], ['aff', 1], ['bost', 1], ['doq', 1], ['indign', 1], ['lug', 1], ['país', 1], ['put', 1]]\n[['arar', 1], ['azul', 1], ['ach', 1], ['entr', 1], ['sobr', 2], ['vai', 1], ['onç', 1], ['alun', 1], ['aminoác', 1], ['aprend', 2], ['ensin', 1], ['médi', 1], ['pint', 1], ['vacúol', 1], ['verdad', 1]]\n[['arar', 1], ['azul', 1], ['lind', 1], ['lá', 1], ['jan', 1], ['rio', 1], ['est', 1], ['cri', 1], ['entr', 1], ['dia', 1], ['vid', 1], ['nasc', 1], ['par', 1], ['afet', 1], ['ambos', 1], ['blu', 1], ['captur', 1], ['eisenberg', 1], ['florest', 1], ['fort', 1], ['fri', 1], ['jess', 1], ['laç', 1], ['lesli', 1], ['mann', 1], ['minnesot', 1], ['rodrig', 1], ['santor', 1], ['túli', 1], ['unid', 1]]\n[['arar', 1], ['azul', 1], ['contr', 1], ['extinç', 1], ['bonit', 1], ['inici', 1], ['sardinh', 1]]\n[['arar', 1], ['azul', 1], ['filhot', 1], ['vez', 1], ['espéci', 2], ['boa', 1], ['extinç', 1], ['incub', 1], ['nasc', 1], ['prim', 1], ['ameaç', 1], ['notíc', 1], ['artific', 1], ['itatib', 1], ['local', 1], ['reproduz', 1], ['sp', 1], ['trê', 1], ['zooparqu', 1]]\n[['arar', 1], ['azul', 1], ['desenh', 1], ['rainbyu', 1]]\n[['arar', 1], ['azul', 1], ['cois', 1], ['eh', 1], ['fof', 1], ['mai', 1], ['mund', 1], ['nho', 2]]\n[['arar', 1], ['azul', 1], ['trabalh', 1], ['aliment', 1], ['agor', 1], ['vid', 1], ['espéci', 1], ['apoi', 1], ['abrig', 1], ['ajudapantan', 1], ['além', 1], ['defens', 1], ['devast', 1], ['encontr', 1], ['escap', 1], ['mei', 1], ['pantan', 2], ['precis', 1], ['pred', 1], ['provoc', 1], ['queim', 1], ['sobreviv', 1]]\n[['arar', 1], ['azul', 1], ['cabel', 1], ['gost', 1], ['cor', 1], ['ond', 1], ['nom', 1], ['dia', 1], ['animal', 1], ['altur', 1], ['bale', 1], ['boc', 1], ['capricorni', 1], ['castanh', 1], ['coelh', 1], ['fav', 1], ['flu', 1], ['gat', 1], ['gêner', 1], ['nielist', 1], ['noit', 2], ['pan', 1], ['pe', 1], ['ranny', 1], ['sexual', 1], ['sign', 1]]\n[['arar', 1], ['azul', 1], ['rio', 1], ['fim', 1], ['geracaonint', 1], ['luigione', 1]]\n[['arar', 1], ['azul', 1], ['aço', 1], ['ecbah', 1], ['american', 1], ['bahe', 1], ['kmuniz', 1], ['prefir', 1], ['superman', 1]]\n[['arar', 1], ['azul', 1], ['pod', 1], ['ser', 1], ['bem', 1], ['mascot', 1], ['nacion', 1], ['aço', 1], ['ecbah', 1], ['american', 1], ['bah', 1]]\n[['arar', 1], ['azul', 1], ['compr', 1], ['impost', 1], ['pag', 1]]\n[['arar', 1], ['azul', 1], ['fod', 1], ['pomb', 1], ['oocbrazil', 1], ['tlg', 1]]\n[['arar', 1], ['azul', 1], ['hj', 1], ['aqu', 1], ['compr', 1], ['dia', 1], ['centr', 1], ['mei', 1], ['ader', 1], ['aeroport', 1], ['avi', 1], ['correi', 1], ['danylawyer', 1], ['difer', 1], ['empr', 1], ['entreg', 2], ['exempl', 1], ['novidad', 1], ['oest', 1], ['porém', 1], ['priv', 1], ['serviç', 1], ['sud', 1], ['sul', 1]]\n[['arar', 1], ['azul', 1], ['sim', 1], ['ano', 1], ['exempl', 1], ['porém', 1], ['amazon', 1], ['badgalrcr', 1], ['destribu', 1], ['historic', 1], ['maceió', 1], ['recif', 1], ['ult', 1], ['unidad', 1]]\n[['arar', 1], ['azul', 1], ['tod', 1], ['pro', 2], ['fez', 1], ['melhor', 1], ['quer', 1], ['jog', 1], ['vai', 1], ['institut', 3], ['pantan', 1], ['arrecad', 1], ['canal', 1], ['consegu', 1], ['consol', 1], ['dúv', 1], ['fiz', 1], ['gran', 1], ['hom', 1], ['hr', 1], ['jogabil', 1], ['liv', 1], ['maravilh', 1], ['pov', 1], ['sortei', 1], ['twitch', 1]]\n[['arar', 1], ['azul', 1], ['gost', 1], ['ach', 1], ['zoológ', 1], ['coment', 1], ['apel', 1], ['anális', 1], ['cabeç', 1], ['egit', 1], ['enz', 1], ['faç', 1], ['lol', 1], ['oq', 1], ['próx', 1], ['quã', 1], ['yat', 1]]\n[['arar', 1], ['azul', 1], ['sim', 1], ['sobr', 1], ['mei', 1], ['correi', 1], ['priv', 1], ['serviç', 1], ['ajud', 1], ['bast', 1], ['daqu', 1], ['depend', 1], ['desc', 1], ['gabriel', 1], ['invest', 1], ['nordestin', 1], ['notori', 1], ['prest', 1], ['szrobzton', 1], ['tanan', 1], ['total', 1], ['totalexpres', 1]]\n[['arar', 1], ['azul', 1], ['lá', 1], ['fez', 1], ['cont', 1], ['dia', 1], ['cheg', 2], ['sp', 1], ['correi', 1], ['consegu', 1], ['fiz', 1], ['gabriel', 1], ['szrobzton', 1], ['tanan', 1], ['cerc', 1], ['client', 1], ['cobr', 1], ['encomend', 2], ['iri', 1], ['masc', 1], ['me', 1], ['pal', 1], ['preç', 1], ['produç', 1], ['quarenten', 1], ['send', 1]]\n[['arar', 1], ['azul', 1], ['dia', 1], ['fod', 1], ['seman', 1], ['empr', 1], ['gabriel', 2], ['szrobzton', 1], ['tanan', 2], ['totalexpres', 1], ['encomend', 1], ['complement', 1], ['mercad', 1], ['obvi', 1], ['poahhh', 1], ['sequo', 1], ['troux', 2]]\n[['arar', 1], ['azul', 1], ['demal', 1], ['lind', 1], ['contr', 1], ['menos', 1], ['institut', 2], ['pantan', 2], ['arrecad', 1], ['hom', 1], ['jogabil', 1], ['liv', 1], ['twitch', 1], ['ajud', 1], ['caralh', 1], ['gt', 1], ['incêndi', 1], ['lt', 1], ['maajin', 1], ['monstr', 1], ['rafaelq', 1], ['revest', 1], ['sushi', 1], ['tengumaru', 1], ['tramp', 1]]\n[['arar', 1], ['azul', 1], ['rio', 1], ['compr', 1], ['diz', 1], ['am', 1], ['pert', 1], ['local', 1], ['produç', 1], ['anunci', 1], ['araracang', 1], ['bac', 1], ['carapanaúb', 1], ['concess', 1], ['cupiúb', 1], ['eikebat', 1], ['enev', 1], ['gás', 1], ['laur', 1], ['lest', 1], ['natur', 1], ['petrobr', 1], ['petróle', 1], ['pol', 2], ['set', 1], ['solim', 1], ['urucu', 3]]\n[['arar', 1], ['azul', 1], ['abelh', 1], ['reservatin', 1]]\n[['arar', 1], ['azul', 1], ['um', 1], ['vir', 1], ['oest', 1], ['manivel', 1], ['mateus', 1], ['minut', 1]]\n[['arar', 1], ['azul', 1], ['trabalh', 1], ['tod', 1], ['aí', 1], ['dur', 1], ['caus', 1], ['institut', 2], ['pantan', 2], ['arrecad', 1], ['hom', 1], ['liv', 1], ['incêndi', 1], ['dan', 1], ['doa', 1], ['jogabiliday', 1], ['organiz', 1], ['recuper', 1], ['rend', 1], ['revert', 1]]\n[['arar', 1], ['azul', 1], ['pro', 1], ['cham', 1], ['churr', 1], ['junindadozekkk', 1], ['maiconkusterkk', 1], ['noil', 1], ['uuuumm', 1]]\n[['arar', 1], ['azul', 1], ['pod', 1], ['lá', 1], ['ach', 1], ['bat', 1], ['bem', 1], ['tá', 1], ['mil', 1], ['começ', 1], ['vai', 1], ['mont', 1], ['institut', 2], ['posi', 1], ['pantan', 1], ['arrecad', 1], ['consol', 1], ['hom', 1], ['ajud', 1], ['comunidad', 1], ['concorr', 1], ['difícil', 1], ['mané', 1], ['noç', 1], ['nutr', 1], ['têm', 1]]\n[['arar', 1], ['azul', 1], ['gt', 5], ['abelh', 1], ['reservatin', 1]]\n[['arar', 1], ['azul', 1], ['tav', 1], ['pq', 1], ['so', 1], ['kkkk', 1], ['reservatin', 1]]\n[['arar', 1], ['azul', 1], ['vc', 1], ['bem', 1], ['vend', 1], ['casimir', 1], ['dócel', 1], ['inclusiv', 1], ['selv', 1]]\n[['arar', 1], ['azul', 1], ['reservatin', 1], ['pant', 1]]\n[['arar', 1], ['azul', 1], ['ont', 1], ['hj', 1], ['vend', 1], ['deposit', 1], ['jxnivr', 1], ['ue', 1]]\n[['arar', 1], ['azul', 1], ['tucan', 1], ['gabiru', 1], ['sagu', 1], ['tub', 1]]\n[['arar', 1], ['azul', 1], ['pod', 1], ['coloc', 1], ['cois', 1], ['tá', 1], ['animal', 1], ['tão', 1], ['nov', 1], ['graç', 1], ['informandopop', 1], ['lor', 1], ['qualqu', 1]]\n[['arar', 1], ['azul', 1], ['vend', 1], ['casimir', 1], ['ce', 1]]\n[['cas', 1], ['corr', 1], ['casimir', 1], ['caiu', 1]]\n[['arar', 1], ['azul', 1], ['met', 1], ['tod', 1], ['bat', 1], ['ind', 1], ['salv', 1], ['ano', 1], ['campanh', 1], ['institut', 2], ['pantan', 2], ['arrecad', 1], ['hom', 1], ['faç', 1], ['jogabiliday', 1], ['concorr', 1], ['benefic', 1], ['doe', 1], ['videogam', 1]]\n[['arar', 1], ['azul', 1], ['cabel', 1], ['gost', 1], ['fic', 1], ['top', 2], ['cham', 1], ['marsealnz', 1], ['nicol', 1], ['vô', 1], ['wldkais', 1]]\n[['arar', 1], ['azul', 1], ['err', 1], ['sab', 1], ['fez', 1], ['cois', 1], ['fot', 1], ['pobr', 1], ['faz', 1], ['muit', 1], ['amig', 1], ['hom', 1], ['ato', 1], ['capaz', 2], ['conseg', 1], ['equip', 1], ['flagr', 1], ['impied', 1], ['ja', 1], ['luci', 2], ['pis', 1], ['podr', 1], ['pozzan', 3], ['sig', 1], ['vej', 1]]\n[['arar', 1], ['azul', 1], ['biodiversidadeb', 1]]\n[['arar', 1], ['azul', 1], ['sim', 1], ['verd', 1], ['luiszanetin', 1]]\n[['arar', 1], ['azul', 1], ['tod', 1], ['pro', 1], ['agor', 1], ['tá', 1], ['jog', 1], ['faz', 1], ['vai', 1], ['chor', 1], ['institut', 2], ['pantan', 1], ['arrecad', 1], ['hom', 1], ['jogabil', 1], ['liv', 1], ['gartic', 1], ['phon', 1], ['rir', 1]]\n[['arar', 1], ['azul', 1], ['pag', 1], ['dm', 1], ['pau', 1]]\n[['arar', 1], ['azul', 1], ['man', 1], ['proteg', 1], ['bot', 1], ['animal', 1], ['luvasfazenda', 1], ['simbol', 1]]\n[['arar', 1], ['azul', 1], ['institut', 1], ['desd', 1], ['luan', 1], ['opantanalcham', 1], ['padr', 1]]\n[['arar', 1], ['azul', 1], ['outr', 1], ['fal', 1], ['aí', 1], ['quer', 1], ['prim', 1], ['institut', 1], ['ja', 1], ['opantanalcham', 1], ['assunt', 1], ['kkkkkkkkkkkkkk', 1], ['termin', 1]]\n[['arar', 1], ['azul', 1], ['tod', 1], ['opantanalcham', 1], ['aaaaaaaa', 1], ['atenç', 1], ['merec', 1]]\n[['arar', 1], ['azul', 1], ['lind', 1], ['compr', 1], ['canec', 1], ['ls', 1], ['shop', 1], ['tão', 1], ['opantanalcham', 1], ['apaixon', 1]]\n[['arar', 2], ['azul', 1], ['conserv', 1], ['cri', 1], ['ambient', 1], ['ano', 1], ['institut', 1], ['pantan', 1], ['natur', 1], ['doe', 1], ['ambi', 1], ['azuil', 1], ['desenvolv', 1], ['final', 1], ['livr', 1], ['mant', 1], ['popul', 1], ['princip', 1]]\n[['arar', 1], ['azul', 1], ['músic', 1], ['paz', 1], ['traz', 1]]\n[['arar', 1], ['azul', 1], ['faz', 1], ['grand', 1], ['possível', 1], ['institut', 2], ['pantan', 1], ['opantanalcham', 1], ['abert', 1], ['brind', 1], ['do', 1], ['doaç', 2], ['oferec', 1], ['pequen', 1], ['relacion', 1], ['sit', 1]]\n[['arar', 1], ['azul', 1], ['sim', 1], ['deu', 1], ['rua', 1], ['alsoskwosjesodk', 1], ['fofoc', 2], ['iuizyn', 1], ['roub', 1], ['tomat', 1]]\n[['arar', 1], ['azul', 1], ['jog', 1], ['faz', 1], ['institut', 1], ['pantan', 1], ['arrecad', 1], ['hom', 1], ['jogabil', 1], ['liv', 1], ['ajud', 1], ['doaç', 1], ['fiscaldoibam', 1], ['vam', 1]]\n[['arar', 1], ['azul', 1], ['fic', 1], ['dia', 1], ['quart', 1], ['desenh', 1], ['bom', 1], ['am', 1], ['sonh', 1], ['cerc', 1], ['adot', 1], ['giz', 1], ['pared', 1]]\n[['arar', 2], ['azul', 3], ['aí', 1], ['áre', 1], ['ah', 1], ['est', 1], ['com', 2], ['viv', 1], ['entr', 1], ['extinç', 1], ['bost', 1], ['têm', 1], ['ar', 1], ['daor', 1], ['dig', 1], ['gad', 2], ['le', 1], ['perig', 1], ['pet', 1], ['relaç', 1], ['roch', 1], ['sement', 1], ['tp', 1]]\n[['arar', 1], ['azul', 1], ['tod', 1], ['faz', 1], ['dur', 1], ['tão', 1], ['feit', 1], ['caus', 1], ['institut', 2], ['pantan', 2], ['hom', 1], ['jogabil', 1], ['liv', 1], ['incêndi', 1], ['dan', 1], ['revert', 1], ['benefic', 1], ['doaç', 1], ['atu', 1], ['combat', 1], ['hor', 1], ['períod', 1]]\n[['arar', 1], ['azul', 1], ['outr', 1], ['met', 2], ['cri', 1], ['compr', 1], ['form', 1], ['vai', 1], ['pantan', 1], ['jogabil', 1], ['minut', 3], ['hor', 3], ['descobert', 1], ['dinh', 1], ['esquem', 1], ['jogabilian', 1], ['lav', 1], ['revel', 1], ['surpr', 1]]\n[['arar', 1], ['azul', 1], ['lind', 2], ['ach', 1], ['bem', 1], ['formig', 1], ['paulovieirare', 1], ['útil', 1]]\n[['arar', 1], ['azul', 1], ['ser', 1], ['cabel', 1], ['dev', 1], ['rox', 1], ['tá', 2], ['verd', 1], ['mei', 4], ['cham', 1], ['loir', 1], ['mãe', 1]]\n[['arar', 1], ['azul', 1], ['amo', 1], ['obrig', 3], ['ceu', 1], ['fastpxc', 1], ['mar', 1], ['xuxu', 1]]\n[['arar', 1], ['azul', 1], ['igual', 2], ['espéci', 1], ['encontr', 1], ['hom', 1], ['fiel', 1], ['rar', 1]]\n[['arar', 1], ['azul', 1], ['brasil', 1], ['sobr', 1], ['alg', 1], ['angelamerkel', 1], ['declar', 1], ['mad', 1]]\n[['arar', 1], ['azul', 1], ['ser', 1], ['tá', 1], ['ta', 1], ['venh', 1], ['vai', 1], ['institut', 2], ['além', 1], ['pantan', 1], ['arrecad', 1], ['hom', 1], ['jogabil', 1], ['liv', 1], ['jogabiliday', 1], ['doaç', 1], ['long', 1], ['pessoal', 1], ['prol', 1], ['rol', 1]]\n[['arar', 1], ['azul', 1], ['ond', 1], ['olh', 1], ['florest', 1], ['encontr', 1], ['bee', 1], ['bunny', 1], ['nic', 1]]\n[['arar', 1], ['azul', 1], ['biiaahfn', 1]]\n[['arar', 1], ['azul', 1], ['pra', 1], ['fic', 1], ['tud', 1], ['sempr', 1], ['cachorr', 1], ['aaa', 2], ['pinguim', 1], ['pqn', 1]]\n[['arar', 1], ['azul', 1], ['nov', 1], ['traaaaaa', 1]]\n[['azul', 1], ['vc', 1], ['jad', 1], ['ta', 1], ['ar', 1], ['blz', 1], ['crush', 2], ['tigr', 1]]\n[['arar', 1], ['azul', 1], ['nordestin', 1], ['eutaysrel', 1], ['infostaysrel', 1], ['orgulh', 1], ['tay', 1]]\n[['arar', 1], ['azul', 1], ['tod', 1], ['gost', 1], ['ach', 1], ['eh', 1], ['fod', 1], ['animal', 1], ['oq', 1], ['tip', 1]]\n[['arar', 1], ['azul', 1], ['to', 1], ['banh', 1], ['cabeç', 1], ['coc', 1], ['lig', 1], ['lukduarted', 1], ['orangotang', 1], ['pc', 1]]\n[['arar', 1], ['azul', 1], ['ombr', 1], ['vi', 1], ['viv', 1], ['verdad', 1], ['hom', 1], ['atravess', 1], ['aven', 1]]\n[['arar', 1], ['azul', 1], ['car', 1], ['ombr', 1], ['né', 1], ['tô', 1], ['vend', 1]]\n[['arar', 1], ['azul', 1], ['pod', 1], ['pass', 1], ['casimir', 1], ['eucham', 1]]\n[['arar', 1], ['azul', 1], ['vermelh', 1], ['cor', 1], ['brasil', 1], ['vir', 1], ['futebol', 1], ['bol', 1], ['bolsonar', 1], ['govern', 1], ['instaur', 1], ['opropriofak', 1], ['quadr', 1]]\n[['arar', 2], ['azul', 1], ['tod', 1], ['aí', 1], ['quer', 1], ['canec', 1], ['peg', 2], ['bonit', 1], ['dúv', 1], ['camiset', 1], ['divers', 1], ['estamp', 1], ['fiq', 1], ['micheleorniesk', 1]]\n[['arar', 1], ['azul', 1], ['parec', 1], ['tá', 1], ['quas', 1], ['extinç', 1], ['nenisvitt', 1], ['pabl', 1]]\n[['arar', 1], ['azul', 1], ['vi', 1], ['cois', 1], ['aqu', 1], ['fod', 1], ['prim', 1], ['casal', 1], ['sinc', 1], ['tudoh', 1]]\n[['arar', 1], ['azul', 1], ['pat', 1], ['mar', 1], ['eduard', 1], ['mc', 1], ['mim', 1], ['poz', 1], ['vis', 1]]\n[['arar', 1], ['azul', 1], ['churrasc', 1], ['coloc', 1], ['quer', 1], ['pq', 1], ['vai', 1], ['cham', 1], ['eucham', 1], ['ih', 1], ['políci', 1]]\n[['arar', 1], ['azul', 1], ['institut', 1], ['luan', 1], ['do', 1], ['sit', 1], ['rares', 1], ['sant', 1]]\n[['arar', 1], ['azul', 1], ['institut', 1], ['qualqu', 1], ['doe', 1], ['luan', 1], ['sit', 1], ['sant', 1], ['val', 1]]\n[['arar', 1], ['azul', 1], ['cas', 1], ['ach', 1], ['aqu', 1], ['compr', 1], ['ia', 2], ['canec', 2], ['peg', 1], ['tão', 1], ['maravilh', 1], ['camiset', 1], ['daí', 1], ['guard', 1], ['rab', 1]]\n[['arar', 1], ['azul', 1], ['melhor', 1], ['assim', 1], ['seman', 1], ['notíc', 1], ['am', 1], ['amazón', 1], ['ciênc', 1], ['dest', 1], ['extint', 1], ['scrr', 1]]\n[['arar', 2], ['azul', 2], ['filhot', 1], ['vez', 1], ['espéci', 2], ['extinç', 1], ['incub', 1], ['nasc', 1], ['prim', 1], ['ameaç', 1], ['acord', 1], ['artific', 1], ['itatib', 1], ['local', 1], ['reproduz', 1], ['trê', 1], ['zoo', 2]]\n[['arar', 1], ['azul', 1], ['coloc', 1], ['gent', 1], ['brasil', 1], ['aqu', 1], ['faz', 1], ['assim', 1], ['espéci', 1], ['extinç', 1], ['fod', 2], ['nasc', 1], ['list', 1], ['consegu', 2], ['bebê', 1], ['bix', 1], ['infeliz', 1]]\n[['arar', 1], ['azul', 1], ['ser', 1], ['aq', 1], ['filhot', 1], ['ach', 1], ['dev', 1], ['tá', 1], ['agradec', 1], ['fei', 1]]\n[['arar', 1], ['azul', 1], ['famíl', 1], ['canindé', 1], ['barr', 1], ['barramans', 1], ['desaparec', 1], ['diariodoval', 1], ['mans', 1], ['reencontr', 2]]\n[['arar', 1], ['azul', 1], ['fod', 1], ['despen', 1], ['mathbellion', 1]]\n[['arar', 1], ['azul', 1], ['específ', 1], ['ok', 1], ['samuluizzz', 1], ['veterinár', 1]]\n[['arar', 1], ['azul', 1], ['dev', 1], ['ver', 1], ['espéci', 1], ['kkkkkkkkkkk', 1], ['extinç', 1], ['menos', 1], ['cham', 1], ['atenç', 1], ['tip', 1], ['agrad', 1], ['burr', 1], ['costaysmael', 1], ['curi', 1], ['enraiz', 1]]\n[['arar', 1], ['azul', 1], ['so', 1], ['ta', 1], ['cour', 1], ['gatopretorr', 1], ['rasp', 1], ['sac', 1]]\n[['arar', 1], ['azul', 1], ['gost', 1], ['bt', 4], ['btsxsud', 1], ['lifegoeson', 1], ['ouv', 1], ['twt', 2], ['be', 1], ['bighitent', 1], ['btsxbrazil', 1], ['btsxcent', 1], ['btsxnord', 1], ['btsxnort', 1], ['btsxsul', 1], ['grat', 1], ['jp', 1], ['lanç', 1], ['offic', 1], ['ooi', 1], ['program', 1], ['radionaju', 2]]\n[['arar', 1], ['azul', 1], ['filhot', 1], ['nasc', 1], ['zoológ', 2], ['gal', 1], ['país', 1], ['itatib', 1], ['trê', 1], ['defend', 1], ['fundament', 1], ['lut', 1]]\n[['arar', 1], ['azul', 1], ['filhot', 1], ['vi', 1], ['sobr', 1], ['beaksguy', 1], ['kkkkkkkkkkkkk', 1], ['matér', 1], ['nsens', 1], ['rafaelno', 1]]\n[['arar', 1], ['azul', 1], ['filhot', 1], ['cois', 1], ['incub', 1], ['nasc', 1], ['artific', 1], ['itatib', 1], ['trê', 1], ['zoo', 1], ['fei', 1]]\n[['arar', 1], ['azul', 1], ['ser', 1], ['filhot', 1], ['lind', 1], ['dp', 1], ['quer', 1], ['igual', 1], ['contr', 1], ['cmg', 1], ['cresc', 1], ['horr', 1]]\n[['arar', 1], ['azul', 1], ['pra', 1], ['ter', 1], ['man', 1], ['quer', 1], ['bich', 1], ['bonit', 1], ['caralh', 1]]\n[['arar', 1], ['azul', 1], ['papagai', 1], ['kkkkkk', 1], ['sonh', 1], ['diss', 1]]\n[['arar', 1], ['azul', 1], ['outr', 1], ['filhot', 1], ['preserv', 1], ['viv', 1], ['espéci', 1], ['incub', 1], ['nasc', 1], ['faun', 1], ['sempr', 1], ['artific', 1], ['itatib', 1], ['trê', 1], ['maravilh', 1], ['vam', 1], ['zoo', 1], ['flor', 1], ['respe', 1]]\n[['arar', 1], ['azul', 2], ['deu', 1], ['man', 2], ['vid', 1], ['blu', 1], ['ar', 1], ['mentir', 1]]\n[['arar', 1], ['azul', 1], ['barril', 1], ['situ', 1]]\n[['arar', 1], ['azul', 1], ['deu', 1], ['sonh', 1]]\n[['arar', 1], ['azul', 1], ['filhot', 1], ['incub', 1], ['nasc', 1], ['artific', 1], ['itatib', 1], ['trê', 1], ['zoo', 1], ['ritosan', 1]]\n[['arar', 1], ['azul', 1], ['jorn', 1], ['nasc', 1], ['caus', 1], ['itatib', 1], ['zooparqu', 1], ['ajud', 1], ['acordodeparil', 1], ['inédit', 1], ['meioambi', 1], ['mold', 1], ['mudançasclimá', 1], ['polítcaambient', 1], ['registr', 1], ['vinhed', 1]]\n[['arar', 1], ['azul', 1], ['demal', 1], ['filhot', 1], ['tô', 1], ['apaixon', 1], ['fei', 1]]\n[['arar', 1], ['azul', 1], ['filhot', 1], ['incub', 1], ['nasc', 1], ['zoológ', 1], ['artific', 1], ['kitatib', 1]]\n[['arar', 1], ['azul', 1], ['nasc', 1], ['itatib', 1], ['zooparqu', 1], ['inédit', 1], ['registr', 1], ['jornaldevinhed', 1], ['via', 1]]\n[['arar', 1], ['azul', 1], ['pra', 1], ['quant', 1], ['filhot', 1], ['preserv', 1], ['brasil', 1], ['biodivers', 1], ['incub', 1], ['nasc', 1], ['animal', 1], ['últ', 1], ['mai', 1], ['glob', 1], ['ano', 1], ['artific', 1], ['queim', 1], ['registr', 1], ['aquec', 1], ['biom', 1], ['déc', 1], ['tráf', 1]]\n[['arar', 1], ['azul', 1], ['pqp', 1], ['senh', 1], ['faz', 1], ['nasc', 1], ['fei', 2], ['bagulh', 1], ['ide', 1], ['irm', 1], ['mín', 1]]\n"
     ]
    }
   ],
   "source": [
    "for doc in BoW_corpus:\n",
    "   print([[dictionary[id], freq] for id, freq in doc])"
   ]
  },
  {
   "cell_type": "code",
   "execution_count": 11,
   "metadata": {},
   "outputs": [],
   "source": [
    "tfidf = models.TfidfModel(BoW_corpus, smartirs='ntc')"
   ]
  },
  {
   "cell_type": "code",
   "execution_count": 12,
   "metadata": {
    "tags": [
     "outputPrepend"
    ]
   },
   "outputs": [
    {
     "output_type": "stream",
     "name": "stdout",
     "text": [
      "3], ['gost', 0.14], ['cor', 0.13], ['ond', 0.15], ['nom', 0.17], ['dia', 0.12], ['animal', 0.13], ['altur', 0.21], ['bale', 0.21], ['boc', 0.21], ['capricorni', 0.21], ['castanh', 0.21], ['coelh', 0.21], ['fav', 0.21], ['flu', 0.21], ['gat', 0.21], ['gêner', 0.21], ['nielist', 0.21], ['noit', 0.42], ['pan', 0.21], ['pe', 0.21], ['ranny', 0.21], ['sexual', 0.21], ['sign', 0.21]]\n[['arar', 0.0], ['azul', 0.0], ['rio', 0.37], ['fim', 0.49], ['geracaonint', 0.56], ['luigione', 0.56]]\n[['arar', 0.0], ['azul', 0.0], ['aço', 0.33], ['ecbah', 0.33], ['american', 0.36], ['bahe', 0.41], ['kmuniz', 0.41], ['prefir', 0.41], ['superman', 0.41]]\n[['arar', 0.0], ['azul', 0.0], ['pod', 0.27], ['ser', 0.23], ['bem', 0.25], ['mascot', 0.34], ['nacion', 0.37], ['aço', 0.34], ['ecbah', 0.34], ['american', 0.37], ['bah', 0.43]]\n[['arar', 0.01], ['azul', 0.0], ['compr', 0.4], ['impost', 0.69], ['pag', 0.6]]\n[['arar', 0.0], ['azul', 0.0], ['fod', 0.36], ['pomb', 0.49], ['oocbrazil', 0.56], ['tlg', 0.56]]\n[['arar', 0.0], ['azul', 0.0], ['hj', 0.17], ['aqu', 0.13], ['compr', 0.13], ['dia', 0.13], ['centr', 0.19], ['mei', 0.17], ['ader', 0.22], ['aeroport', 0.22], ['avi', 0.22], ['correi', 0.18], ['danylawyer', 0.22], ['difer', 0.22], ['empr', 0.19], ['entreg', 0.45], ['exempl', 0.19], ['novidad', 0.22], ['oest', 0.19], ['porém', 0.19], ['priv', 0.19], ['serviç', 0.19], ['sud', 0.22], ['sul', 0.22]]\n[['arar', 0.0], ['azul', 0.0], ['sim', 0.19], ['ano', 0.21], ['exempl', 0.27], ['porém', 0.27], ['amazon', 0.31], ['badgalrcr', 0.31], ['destribu', 0.31], ['historic', 0.31], ['maceió', 0.31], ['recif', 0.31], ['ult', 0.31], ['unidad', 0.31]]\n[['arar', 0.0], ['azul', 0.0], ['tod', 0.12], ['pro', 0.32], ['fez', 0.16], ['melhor', 0.17], ['quer', 0.12], ['jog', 0.17], ['vai', 0.14], ['institut', 0.35], ['pantan', 0.13], ['arrecad', 0.15], ['canal', 0.24], ['consegu', 0.19], ['consol', 0.21], ['dúv', 0.21], ['fiz', 0.21], ['gran', 0.24], ['hom', 0.13], ['hr', 0.24], ['jogabil', 0.15], ['liv', 0.15], ['maravilh', 0.19], ['pov', 0.24], ['sortei', 0.24], ['twitch', 0.21]]\n[['arar', 0.0], ['azul', 0.0], ['gost', 0.19], ['ach', 0.16], ['zoológ', 0.2], ['coment', 0.25], ['apel', 0.25], ['anális', 0.29], ['cabeç', 0.25], ['egit', 0.29], ['enz', 0.29], ['faç', 0.25], ['lol', 0.29], ['oq', 0.25], ['próx', 0.29], ['quã', 0.29], ['yat', 0.29]]\n[['arar', 0.0], ['azul', 0.0], ['sim', 0.16], ['sobr', 0.17], ['mei', 0.19], ['correi', 0.2], ['priv', 0.22], ['serviç', 0.22], ['ajud', 0.18], ['bast', 0.25], ['daqu', 0.25], ['depend', 0.25], ['desc', 0.25], ['gabriel', 0.2], ['invest', 0.25], ['nordestin', 0.22], ['notori', 0.25], ['prest', 0.25], ['szrobzton', 0.2], ['tanan', 0.2], ['total', 0.25], ['totalexpres', 0.22]]\n[['arar', 0.0], ['azul', 0.0], ['lá', 0.15], ['fez', 0.14], ['cont', 0.17], ['dia', 0.13], ['cheg', 0.33], ['sp', 0.18], ['correi', 0.17], ['consegu', 0.17], ['fiz', 0.18], ['gabriel', 0.17], ['szrobzton', 0.17], ['tanan', 0.17], ['cerc', 0.18], ['client', 0.21], ['cobr', 0.21], ['encomend', 0.37], ['iri', 0.21], ['masc', 0.21], ['me', 0.21], ['pal', 0.21], ['preç', 0.21], ['produç', 0.18], ['quarenten', 0.21], ['send', 0.21]]\n[['arar', 0.0], ['azul', 0.0], ['dia', 0.14], ['fod', 0.15], ['seman', 0.16], ['empr', 0.2], ['gabriel', 0.37], ['szrobzton', 0.19], ['tanan', 0.37], ['totalexpres', 0.2], ['encomend', 0.2], ['complement', 0.23], ['mercad', 0.23], ['obvi', 0.23], ['poahhh', 0.23], ['sequo', 0.23], ['troux', 0.47]]\n[['arar', 0.0], ['azul', 0.0], ['demal', 0.19], ['lind', 0.14], ['contr', 0.18], ['menos', 0.19], ['institut', 0.24], ['pantan', 0.26], ['arrecad', 0.15], ['hom', 0.13], ['jogabil', 0.16], ['liv', 0.16], ['twitch', 0.21], ['ajud', 0.17], ['caralh', 0.21], ['gt', 0.21], ['incêndi', 0.19], ['lt', 0.24], ['maajin', 0.24], ['monstr', 0.24], ['rafaelq', 0.24], ['revest', 0.24], ['sushi', 0.24], ['tengumaru', 0.24], ['tramp', 0.24]]\n[['arar', 0.0], ['azul', 0.0], ['rio', 0.12], ['compr', 0.1], ['diz', 0.15], ['am', 0.13], ['pert', 0.15], ['local', 0.14], ['produç', 0.15], ['anunci', 0.17], ['araracang', 0.17], ['bac', 0.17], ['carapanaúb', 0.17], ['concess', 0.17], ['cupiúb', 0.17], ['eikebat', 0.17], ['enev', 0.17], ['gás', 0.17], ['laur', 0.17], ['lest', 0.17], ['natur', 0.15], ['petrobr', 0.17], ['petróle', 0.17], ['pol', 0.35], ['set', 0.17], ['solim', 0.17], ['urucu', 0.52]]\n[['arar', 0.01], ['azul', 0.01], ['abelh', 0.76], ['reservatin', 0.65]]\n[['arar', 0.0], ['azul', 0.0], ['um', 0.39], ['vir', 0.36], ['oest', 0.39], ['manivel', 0.45], ['mateus', 0.45], ['minut', 0.39]]\n[['arar', 0.0], ['azul', 0.0], ['trabalh', 0.19], ['tod', 0.14], ['aí', 0.17], ['dur', 0.23], ['caus', 0.2], ['institut', 0.28], ['pantan', 0.3], ['arrecad', 0.18], ['hom', 0.16], ['liv', 0.18], ['incêndi', 0.23], ['dan', 0.25], ['doa', 0.29], ['jogabiliday', 0.23], ['organiz', 0.29], ['recuper', 0.29], ['rend', 0.29], ['revert', 0.25]]\n[['arar', 0.0], ['azul', 0.0], ['pro', 0.28], ['cham', 0.29], ['churr', 0.41], ['junindadozekkk', 0.41], ['maiconkusterkk', 0.41], ['noil', 0.41], ['uuuumm', 0.41]]\n[['arar', 0.0], ['azul', 0.0], ['pod', 0.16], ['lá', 0.18], ['ach', 0.14], ['bat', 0.2], ['bem', 0.15], ['tá', 0.14], ['mil', 0.22], ['começ', 0.19], ['vai', 0.15], ['mont', 0.22], ['institut', 0.25], ['posi', 0.22], ['pantan', 0.13], ['arrecad', 0.16], ['consol', 0.22], ['hom', 0.14], ['ajud', 0.18], ['comunidad', 0.25], ['concorr', 0.22], ['difícil', 0.25], ['mané', 0.25], ['noç', 0.25], ['nutr', 0.25], ['têm', 0.22]]\n[['arar', 0.0], ['azul', 0.0], ['gt', 0.97], ['abelh', 0.19], ['reservatin', 0.17]]\n[['arar', 0.0], ['azul', 0.0], ['tav', 0.38], ['pq', 0.44], ['so', 0.47], ['kkkk', 0.51], ['reservatin', 0.44]]\n[['arar', 0.0], ['azul', 0.0], ['vc', 0.27], ['bem', 0.27], ['vend', 0.32], ['casimir', 0.34], ['dócel', 0.46], ['inclusiv', 0.46], ['selv', 0.46]]\n[['arar', 0.01], ['azul', 0.01], ['reservatin', 0.6], ['pant', 0.8]]\n[['arar', 0.0], ['azul', 0.0], ['ont', 0.4], ['hj', 0.34], ['vend', 0.32], ['deposit', 0.46], ['jxnivr', 0.46], ['ue', 0.46]]\n[['arar', 0.0], ['azul', 0.0], ['tucan', 0.42], ['gabiru', 0.52], ['sagu', 0.52], ['tub', 0.52]]\n[['arar', 0.0], ['azul', 0.0], ['pod', 0.25], ['coloc', 0.26], ['cois', 0.24], ['tá', 0.21], ['animal', 0.25], ['tão', 0.27], ['nov', 0.3], ['graç', 0.38], ['informandopop', 0.38], ['lor', 0.38], ['qualqu', 0.33]]\n[['arar', 0.01], ['azul', 0.01], ['vend', 0.49], ['casimir', 0.52], ['ce', 0.7]]\n[['cas', 0.39], ['corr', 0.53], ['casimir', 0.45], ['caiu', 0.6]]\n[['arar', 0.0], ['azul', 0.0], ['met', 0.22], ['tod', 0.15], ['bat', 0.24], ['ind', 0.26], ['salv', 0.26], ['ano', 0.2], ['campanh', 0.26], ['institut', 0.29], ['pantan', 0.31], ['arrecad', 0.18], ['hom', 0.16], ['faç', 0.26], ['jogabiliday', 0.24], ['concorr', 0.26], ['benefic', 0.26], ['doe', 0.24], ['videogam', 0.29]]\n[['arar', 0.0], ['azul', 0.0], ['cabel', 0.22], ['gost', 0.23], ['fic', 0.21], ['top', 0.56], ['cham', 0.25], ['marsealnz', 0.35], ['nicol', 0.35], ['vô', 0.35], ['wldkais', 0.35]]\n[['arar', 0.0], ['azul', 0.0], ['err', 0.14], ['sab', 0.14], ['fez', 0.12], ['cois', 0.11], ['fot', 0.14], ['pobr', 0.15], ['faz', 0.1], ['muit', 0.14], ['amig', 0.15], ['hom', 0.1], ['ato', 0.18], ['capaz', 0.35], ['conseg', 0.18], ['equip', 0.18], ['flagr', 0.18], ['impied', 0.18], ['ja', 0.15], ['luci', 0.35], ['pis', 0.18], ['podr', 0.18], ['pozzan', 0.53], ['sig', 0.18], ['vej', 0.18]]\n[['arar', 0.01], ['azul', 0.01], ['biodiversidadeb', 1.0]]\n[['arar', 0.01], ['azul', 0.01], ['sim', 0.44], ['verd', 0.54], ['luiszanetin', 0.72]]\n[['arar', 0.0], ['azul', 0.0], ['tod', 0.17], ['pro', 0.22], ['agor', 0.22], ['tá', 0.19], ['jog', 0.23], ['faz', 0.19], ['vai', 0.19], ['chor', 0.29], ['institut', 0.33], ['pantan', 0.18], ['arrecad', 0.2], ['hom', 0.18], ['jogabil', 0.21], ['liv', 0.21], ['gartic', 0.33], ['phon', 0.33], ['rir', 0.33]]\n[['arar', 0.0], ['azul', 0.0], ['pag', 0.53], ['dm', 0.6], ['pau', 0.6]]\n[['arar', 0.0], ['azul', 0.0], ['man', 0.31], ['proteg', 0.43], ['bot', 0.37], ['animal', 0.32], ['luvasfazenda', 0.49], ['simbol', 0.49]]\n[['arar', 0.0], ['azul', 0.0], ['institut', 0.27], ['desd', 0.54], ['luan', 0.43], ['opantanalcham', 0.38], ['padr', 0.54]]\n[['arar', 0.0], ['azul', 0.0], ['outr', 0.26], ['fal', 0.24], ['aí', 0.24], ['quer', 0.2], ['prim', 0.28], ['institut', 0.19], ['ja', 0.34], ['opantanalcham', 0.28], ['assunt', 0.39], ['kkkkkkkkkkkkkk', 0.39], ['termin', 0.39]]\n[['arar', 0.0], ['azul', 0.0], ['tod', 0.27], ['opantanalcham', 0.38], ['aaaaaaaa', 0.53], ['atenç', 0.47], ['merec', 0.53]]\n[['arar', 0.0], ['azul', 0.0], ['lind', 0.26], ['compr', 0.27], ['canec', 0.35], ['ls', 0.41], ['shop', 0.41], ['tão', 0.33], ['opantanalcham', 0.33], ['apaixon', 0.41]]\n[['arar', 0.0], ['azul', 0.0], ['conserv', 0.25], ['cri', 0.21], ['ambient', 0.25], ['ano', 0.19], ['institut', 0.14], ['pantan', 0.15], ['natur', 0.25], ['doe', 0.23], ['ambi', 0.28], ['azuil', 0.28], ['desenvolv', 0.28], ['final', 0.28], ['livr', 0.28], ['mant', 0.28], ['popul', 0.28], ['princip', 0.28]]\n[['arar', 0.01], ['azul', 0.0], ['músic', 0.58], ['paz', 0.58], ['traz', 0.58]]\n[['arar', 0.0], ['azul', 0.0], ['faz', 0.16], ['grand', 0.23], ['possível', 0.25], ['institut', 0.28], ['pantan', 0.15], ['opantanalcham', 0.2], ['abert', 0.29], ['brind', 0.29], ['do', 0.25], ['doaç', 0.43], ['oferec', 0.29], ['pequen', 0.29], ['relacion', 0.29], ['sit', 0.23]]\n[['arar', 0.0], ['azul', 0.0], ['sim', 0.2], ['deu', 0.22], ['rua', 0.28], ['alsoskwosjesodk', 0.32], ['fofoc', 0.65], ['iuizyn', 0.32], ['roub', 0.32], ['tomat', 0.32]]\n[['arar', 0.0], ['azul', 0.0], ['jog', 0.3], ['faz', 0.24], ['institut', 0.21], ['pantan', 0.22], ['arrecad', 0.26], ['hom', 0.23], ['jogabil', 0.27], ['liv', 0.27], ['ajud', 0.3], ['doaç', 0.31], ['fiscaldoibam', 0.42], ['vam', 0.37]]\n[['arar', 0.0], ['azul', 0.0], ['fic', 0.22], ['dia', 0.22], ['quart', 0.32], ['desenh', 0.26], ['bom', 0.29], ['am', 0.27], ['sonh', 0.27], ['cerc', 0.32], ['adot', 0.37], ['giz', 0.37], ['pared', 0.37]]\n[['arar', 0.0], ['azul', 0.0], ['aí', 0.13], ['áre', 0.19], ['ah', 0.19], ['est', 0.17], ['com', 0.37], ['viv', 0.15], ['entr', 0.15], ['extinç', 0.12], ['bost', 0.19], ['têm', 0.19], ['ar', 0.17], ['daor', 0.21], ['dig', 0.21], ['gad', 0.43], ['le', 0.21], ['perig', 0.21], ['pet', 0.21], ['relaç', 0.21], ['roch', 0.21], ['sement', 0.21], ['tp', 0.21]]\n[['arar', 0.0], ['azul', 0.0], ['tod', 0.14], ['faz', 0.15], ['dur', 0.22], ['tão', 0.19], ['feit', 0.24], ['caus', 0.19], ['institut', 0.27], ['pantan', 0.29], ['hom', 0.15], ['jogabil', 0.18], ['liv', 0.18], ['incêndi', 0.22], ['dan', 0.24], ['revert', 0.24], ['benefic', 0.24], ['doaç', 0.2], ['atu', 0.27], ['combat', 0.27], ['hor', 0.24], ['períod', 0.27]]\n[['arar', 0.0], ['azul', 0.0], ['outr', 0.13], ['met', 0.29], ['cri', 0.15], ['compr', 0.11], ['form', 0.17], ['vai', 0.11], ['pantan', 0.1], ['jogabil', 0.13], ['minut', 0.51], ['hor', 0.51], ['descobert', 0.2], ['dinh', 0.2], ['esquem', 0.2], ['jogabilian', 0.2], ['lav', 0.2], ['revel', 0.2], ['surpr', 0.2]]\n[['arar', 0.0], ['azul', 0.0], ['lind', 0.5], ['ach', 0.25], ['bem', 0.27], ['formig', 0.45], ['paulovieirare', 0.45], ['útil', 0.45]]\n[['arar', 0.0], ['azul', 0.0], ['ser', 0.14], ['cabel', 0.16], ['dev', 0.17], ['rox', 0.22], ['tá', 0.29], ['verd', 0.19], ['mei', 0.77], ['cham', 0.18], ['loir', 0.26], ['mãe', 0.26]]\n[['arar', 0.0], ['azul', 0.0], ['amo', 0.24], ['obrig', 0.68], ['ceu', 0.35], ['fastpxc', 0.35], ['mar', 0.31], ['xuxu', 0.35]]\n[['arar', 0.0], ['azul', 0.0], ['igual', 0.61], ['espéci', 0.25], ['encontr', 0.35], ['hom', 0.24], ['fiel', 0.44], ['rar', 0.44]]\n[['arar', 0.0], ['azul', 0.0], ['brasil', 0.3], ['sobr', 0.3], ['alg', 0.45], ['angelamerkel', 0.45], ['declar', 0.45], ['mad', 0.45]]\n[['arar', 0.0], ['azul', 0.0], ['ser', 0.16], ['tá', 0.17], ['ta', 0.21], ['venh', 0.26], ['vai', 0.17], ['institut', 0.3], ['além', 0.26], ['pantan', 0.16], ['arrecad', 0.19], ['hom', 0.16], ['jogabil', 0.19], ['liv', 0.19], ['jogabiliday', 0.24], ['doaç', 0.23], ['long', 0.3], ['pessoal', 0.3], ['prol', 0.3], ['rol', 0.3]]\n[['arar', 0.0], ['azul', 0.0], ['ond', 0.32], ['olh', 0.32], ['florest', 0.37], ['encontr', 0.34], ['bee', 0.43], ['bunny', 0.43], ['nic', 0.43]]\n[['arar', 0.01], ['azul', 0.01], ['biiaahfn', 1.0]]\n[['arar', 0.0], ['azul', 0.0], ['pra', 0.19], ['fic', 0.2], ['tud', 0.29], ['sempr', 0.27], ['cachorr', 0.29], ['aaa', 0.67], ['pinguim', 0.34], ['pqn', 0.34]]\n[['arar', 0.01], ['azul', 0.01], ['nov', 0.62], ['traaaaaa', 0.78]]\n[['azul', 0.0], ['vc', 0.21], ['jad', 0.3], ['ta', 0.25], ['ar', 0.28], ['blz', 0.35], ['crush', 0.7], ['tigr', 0.35]]\n[['arar', 0.0], ['azul', 0.0], ['nordestin', 0.4], ['eutaysrel', 0.46], ['infostaysrel', 0.46], ['orgulh', 0.46], ['tay', 0.46]]\n[['arar', 0.0], ['azul', 0.0], ['tod', 0.25], ['gost', 0.34], ['ach', 0.28], ['eh', 0.4], ['fod', 0.32], ['animal', 0.32], ['oq', 0.44], ['tip', 0.44]]\n[['arar', 0.0], ['azul', 0.0], ['to', 0.28], ['banh', 0.33], ['cabeç', 0.33], ['coc', 0.38], ['lig', 0.38], ['lukduarted', 0.38], ['orangotang', 0.38], ['pc', 0.38]]\n[['arar', 0.0], ['azul', 0.0], ['ombr', 0.35], ['vi', 0.31], ['viv', 0.33], ['verdad', 0.41], ['hom', 0.25], ['atravess', 0.47], ['aven', 0.47]]\n[['arar', 0.01], ['azul', 0.0], ['car', 0.41], ['ombr', 0.47], ['né', 0.43], ['tô', 0.47], ['vend', 0.45]]\n[['arar', 0.01], ['azul', 0.0], ['pod', 0.43], ['pass', 0.47], ['casimir', 0.5], ['eucham', 0.58]]\n[['arar', 0.0], ['azul', 0.0], ['vermelh', 0.24], ['cor', 0.21], ['brasil', 0.23], ['vir', 0.27], ['futebol', 0.3], ['bol', 0.34], ['bolsonar', 0.34], ['govern', 0.34], ['instaur', 0.34], ['opropriofak', 0.34], ['quadr', 0.34]]\n[['arar', 0.01], ['azul', 0.0], ['tod', 0.16], ['aí', 0.19], ['quer', 0.16], ['canec', 0.23], ['peg', 0.5], ['bonit', 0.25], ['dúv', 0.27], ['camiset', 0.27], ['divers', 0.31], ['estamp', 0.31], ['fiq', 0.31], ['micheleorniesk', 0.31]]\n[['arar', 0.0], ['azul', 0.0], ['parec', 0.37], ['tá', 0.29], ['quas', 0.37], ['extinç', 0.3], ['nenisvitt', 0.52], ['pabl', 0.52]]\n[['arar', 0.0], ['azul', 0.0], ['vi', 0.3], ['cois', 0.27], ['aqu', 0.26], ['fod', 0.29], ['prim', 0.31], ['casal', 0.44], ['sinc', 0.44], ['tudoh', 0.44]]\n[['arar', 0.0], ['azul', 0.0], ['pat', 0.34], ['mar', 0.34], ['eduard', 0.39], ['mc', 0.39], ['mim', 0.39], ['poz', 0.39], ['vis', 0.39]]\n[['arar', 0.0], ['azul', 0.0], ['churrasc', 0.37], ['coloc', 0.28], ['quer', 0.22], ['pq', 0.31], ['vai', 0.24], ['cham', 0.3], ['eucham', 0.37], ['ih', 0.42], ['políci', 0.42]]\n[['arar', 0.0], ['azul', 0.0], ['institut', 0.24], ['luan', 0.4], ['do', 0.43], ['sit', 0.4], ['rares', 0.5], ['sant', 0.43]]\n[['arar', 0.0], ['azul', 0.0], ['institut', 0.23], ['qualqu', 0.4], ['doe', 0.37], ['luan', 0.37], ['sit', 0.37], ['sant', 0.4], ['val', 0.46]]\n[['arar', 0.0], ['azul', 0.0], ['cas', 0.18], ['ach', 0.16], ['aqu', 0.17], ['compr', 0.17], ['ia', 0.5], ['canec', 0.43], ['peg', 0.23], ['tão', 0.2], ['maravilh', 0.23], ['camiset', 0.25], ['daí', 0.29], ['guard', 0.29], ['rab', 0.29]]\n[['arar', 0.0], ['azul', 0.0], ['melhor', 0.25], ['assim', 0.27], ['seman', 0.25], ['notíc', 0.29], ['am', 0.27], ['amazón', 0.36], ['ciênc', 0.36], ['dest', 0.36], ['extint', 0.36], ['scrr', 0.36]]\n[['arar', 0.01], ['azul', 0.0], ['filhot', 0.16], ['vez', 0.22], ['espéci', 0.37], ['extinç', 0.19], ['incub', 0.2], ['nasc', 0.17], ['prim', 0.23], ['ameaç', 0.26], ['acord', 0.26], ['artific', 0.21], ['itatib', 0.2], ['local', 0.26], ['reproduz', 0.28], ['trê', 0.22], ['zoo', 0.48]]\n[['arar', 0.0], ['azul', 0.0], ['coloc', 0.2], ['gent', 0.22], ['brasil', 0.2], ['aqu', 0.17], ['faz', 0.16], ['assim', 0.22], ['espéci', 0.17], ['extinç', 0.17], ['fod', 0.38], ['nasc', 0.15], ['list', 0.26], ['consegu', 0.47], ['bebê', 0.29], ['bix', 0.29], ['infeliz', 0.29]]\n[['arar', 0.0], ['azul', 0.0], ['ser', 0.28], ['aq', 0.37], ['filhot', 0.26], ['ach', 0.29], ['dev', 0.35], ['tá', 0.29], ['agradec', 0.52], ['fei', 0.39]]\n[['arar', 0.0], ['azul', 0.0], ['famíl', 0.27], ['canindé', 0.27], ['barr', 0.31], ['barramans', 0.31], ['desaparec', 0.31], ['diariodoval', 0.31], ['mans', 0.31], ['reencontr', 0.62]]\n[['arar', 0.01], ['azul', 0.0], ['fod', 0.41], ['despen', 0.64], ['mathbellion', 0.64]]\n[['arar', 0.0], ['azul', 0.0], ['específ', 0.5], ['ok', 0.5], ['samuluizzz', 0.5], ['veterinár', 0.5]]\n[['arar', 0.0], ['azul', 0.0], ['dev', 0.21], ['ver', 0.25], ['espéci', 0.18], ['kkkkkkkkkkk', 0.27], ['extinç', 0.18], ['menos', 0.25], ['cham', 0.22], ['atenç', 0.27], ['tip', 0.27], ['agrad', 0.31], ['burr', 0.31], ['costaysmael', 0.31], ['curi', 0.31], ['enraiz', 0.31]]\n[['arar', 0.0], ['azul', 0.0], ['so', 0.35], ['ta', 0.31], ['cour', 0.44], ['gatopretorr', 0.44], ['rasp', 0.44], ['sac', 0.44]]\n[['arar', 0.0], ['azul', 0.0], ['gost', 0.12], ['bt', 0.52], ['btsxsud', 0.14], ['lifegoeson', 0.14], ['ouv', 0.14], ['twt', 0.28], ['be', 0.18], ['bighitent', 0.18], ['btsxbrazil', 0.18], ['btsxcent', 0.18], ['btsxnord', 0.18], ['btsxnort', 0.18], ['btsxsul', 0.18], ['grat', 0.18], ['jp', 0.18], ['lanç', 0.18], ['offic', 0.18], ['ooi', 0.18], ['program', 0.18], ['radionaju', 0.37]]\n[['arar', 0.0], ['azul', 0.0], ['filhot', 0.18], ['nasc', 0.18], ['zoológ', 0.5], ['gal', 0.31], ['país', 0.31], ['itatib', 0.22], ['trê', 0.24], ['defend', 0.36], ['fundament', 0.36], ['lut', 0.36]]\n[['arar', 0.0], ['azul', 0.0], ['filhot', 0.2], ['vi', 0.27], ['sobr', 0.27], ['beaksguy', 0.4], ['kkkkkkkkkkkkk', 0.4], ['matér', 0.4], ['nsens', 0.4], ['rafaelno', 0.4]]\n[['arar', 0.0], ['azul', 0.0], ['filhot', 0.26], ['cois', 0.32], ['incub', 0.32], ['nasc', 0.27], ['artific', 0.34], ['itatib', 0.32], ['trê', 0.35], ['zoo', 0.39], ['fei', 0.39]]\n[['arar', 0.0], ['azul', 0.0], ['ser', 0.22], ['filhot', 0.21], ['lind', 0.23], ['dp', 0.36], ['quer', 0.21], ['igual', 0.29], ['contr', 0.31], ['cmg', 0.41], ['cresc', 0.41], ['horr', 0.41]]\n[['arar', 0.0], ['azul', 0.0], ['pra', 0.31], ['ter', 0.35], ['man', 0.34], ['quer', 0.28], ['bich', 0.41], ['bonit', 0.44], ['caralh', 0.48]]\n[['arar', 0.0], ['azul', 0.0], ['papagai', 0.47], ['kkkkkk', 0.47], ['sonh', 0.44], ['diss', 0.59]]\n[['arar', 0.0], ['azul', 0.0], ['outr', 0.22], ['filhot', 0.16], ['preserv', 0.26], ['viv', 0.23], ['espéci', 0.19], ['incub', 0.2], ['nasc', 0.17], ['faun', 0.28], ['sempr', 0.26], ['artific', 0.21], ['itatib', 0.2], ['trê', 0.22], ['maravilh', 0.26], ['vam', 0.28], ['zoo', 0.24], ['flor', 0.33], ['respe', 0.33]]\n[['arar', 0.0], ['azul', 0.01], ['deu', 0.3], ['man', 0.56], ['vid', 0.34], ['blu', 0.39], ['ar', 0.36], ['mentir', 0.45]]\n[['arar', 0.01], ['azul', 0.01], ['barril', 0.71], ['situ', 0.71]]\n[['arar', 0.01], ['azul', 0.01], ['deu', 0.67], ['sonh', 0.74]]\n[['arar', 0.0], ['azul', 0.0], ['filhot', 0.26], ['incub', 0.32], ['nasc', 0.27], ['artific', 0.33], ['itatib', 0.32], ['trê', 0.35], ['zoo', 0.39], ['ritosan', 0.52]]\n[['arar', 0.0], ['azul', 0.0], ['jorn', 0.27], ['nasc', 0.16], ['caus', 0.22], ['itatib', 0.19], ['zooparqu', 0.25], ['ajud', 0.22], ['acordodeparil', 0.31], ['inédit', 0.27], ['meioambi', 0.31], ['mold', 0.31], ['mudançasclimá', 0.31], ['polítcaambient', 0.31], ['registr', 0.25], ['vinhed', 0.31]]\n[['arar', 0.0], ['azul', 0.0], ['demal', 0.48], ['filhot', 0.3], ['tô', 0.45], ['apaixon', 0.52], ['fei', 0.45]]\n[['arar', 0.0], ['azul', 0.0], ['filhot', 0.3], ['incub', 0.37], ['nasc', 0.31], ['zoológ', 0.42], ['artific', 0.38], ['kitatib', 0.6]]\n[['arar', 0.0], ['azul', 0.0], ['nasc', 0.24], ['itatib', 0.29], ['zooparqu', 0.37], ['inédit', 0.4], ['registr', 0.37], ['jornaldevinhed', 0.46], ['via', 0.46]]\n[['arar', 0.0], ['azul', 0.0], ['pra', 0.16], ['quant', 0.25], ['filhot', 0.14], ['preserv', 0.22], ['brasil', 0.19], ['biodivers', 0.25], ['incub', 0.17], ['nasc', 0.15], ['animal', 0.18], ['últ', 0.25], ['mai', 0.22], ['glob', 0.25], ['ano', 0.19], ['artific', 0.18], ['queim', 0.25], ['registr', 0.22], ['aquec', 0.28], ['biom', 0.28], ['déc', 0.28], ['tráf', 0.28]]\n[['arar', 0.0], ['azul', 0.0], ['pqp', 0.3], ['senh', 0.3], ['faz', 0.19], ['nasc', 0.18], ['fei', 0.52], ['bagulh', 0.35], ['ide', 0.35], ['irm', 0.35], ['mín', 0.35]]\n"
     ]
    }
   ],
   "source": [
    "for doc in tfidf[BoW_corpus]:\n",
    "   print([[dictionary[id], np.around(freq, decimals=2)] for id, freq in doc])"
   ]
  },
  {
   "cell_type": "code",
   "execution_count": null,
   "metadata": {},
   "outputs": [],
   "source": [
    "corpora.MmCorpus.serialize('BoW_corpus.mm', BoW_corpus)"
   ]
  },
  {
   "cell_type": "code",
   "execution_count": 13,
   "metadata": {
    "tags": []
   },
   "outputs": [
    {
     "output_type": "stream",
     "name": "stdout",
     "text": [
      "[[0.00255403 0.00229355 0.25477148 ... 0.         0.         0.        ]\n [0.00765648 0.00687561 0.         ... 0.         0.         0.        ]\n [0.00388055 0.00348478 0.         ... 0.         0.         0.        ]\n ...\n [0.00369792 0.00332078 0.         ... 0.         0.         0.        ]\n [0.00224915 0.00201976 0.         ... 0.         0.         0.        ]\n [0.00277388 0.00249097 0.         ... 0.34647662 0.34647662 0.34647662]]\n"
     ]
    }
   ],
   "source": [
    "vector = tfidf[BoW_corpus]\n",
    "matriz_tfidf = vector\n",
    "matriz_tfidf_array = gensim.matutils.corpus2csc(matriz_tfidf)\n",
    "\n",
    "tfidf_matriz = matriz_tfidf_array.T.toarray() # Transformando a Matriz num array\n",
    "\n",
    "print(tfidf_matriz)\n",
    "#matriz_tfidf_array = gensim.matutils.corpus2csc(tfidf)\n",
    "#print(vector)"
   ]
  },
  {
   "cell_type": "code",
   "execution_count": null,
   "metadata": {},
   "outputs": [],
   "source": [
    "corpora.MmCorpus.serialize('matriz_tfidf.mm', matriz_tfidf)"
   ]
  },
  {
   "cell_type": "code",
   "execution_count": null,
   "metadata": {},
   "outputs": [],
   "source": [
    "bag = gensim.corpora.MmCorpus('BoW_corpus.mm')\n",
    "tfidf_corpus = gensim.corpora.MmCorpus('matriz_tfidf.mm')\n",
    "print(tfidf_corpus)"
   ]
  },
  {
   "source": [
    "## LSA (Redução de Dimensionalidade)"
   ],
   "cell_type": "markdown",
   "metadata": {}
  },
  {
   "source": [
    "## Será utilizado como entrada a Matriz Gerada anteriormente \"tfidf_matriz\"\n",
    "## Redução de dimensionalidade: 50, 100, 150, 200, 250, 300\n",
    "\n",
    "from gensim.models import LsiModel\n",
    "from gensim import corpora\n",
    "\n",
    "# Utilizando a representação TF-IDF como entrada\n",
    "\n",
    "matriz_tfidf = corpora.MmCorpus('Embeddings\\TF_IDF\\matriz_tfidf.mm')\n",
    "\n",
    "# Aplicando a dimensionalidade\n",
    "\n",
    "lsi_model_50 = LsiModel(matriz_tfidf, num_topics=50)\n",
    "lsi_model_100 = LsiModel(matriz_tfidf, num_topics=100)\n",
    "lsi_model_150 = LsiModel(matriz_tfidf, num_topics=150)\n",
    "lsi_model_200 = LsiModel(matriz_tfidf, num_topics=200)\n",
    "lsi_model_250 = LsiModel(matriz_tfidf, num_topics=250)\n",
    "lsi_model_300 = LsiModel(matriz_tfidf, num_topics=300)\n",
    "\n",
    "# # Vetorizando\n",
    "#  # vectorize input corpus in BoW format\n",
    "\n",
    "lsi_vectorized_corpus_50 = lsi_model_50[matriz_tfidf]\n",
    "lsi_vectorized_corpus_100 = lsi_model_100[matriz_tfidf]\n",
    "lsi_vectorized_corpus_150 = lsi_model_150[matriz_tfidf]\n",
    "lsi_vectorized_corpus_200 = lsi_model_200[matriz_tfidf]\n",
    "lsi_vectorized_corpus_250 = lsi_model_250[matriz_tfidf]\n",
    "lsi_vectorized_corpus_300 = lsi_model_300[matriz_tfidf]\n",
    "\n",
    "\n",
    "matriz_50 = lsi_vectorized_corpus_50\n",
    "matriz_100 = lsi_vectorized_corpus_100\n",
    "matriz_150 = lsi_vectorized_corpus_150\n",
    "matriz_200 = lsi_vectorized_corpus_200\n",
    "matriz_250 = lsi_vectorized_corpus_250\n",
    "matriz_300 = lsi_vectorized_corpus_300\n",
    "\n",
    "# Exportando Matrizes\n",
    "\n",
    "# corpora.MmCorpus.serialize('matriz_lsi_lsa_50.mm', matriz_50)\n",
    "# corpora.MmCorpus.serialize('matriz_lsi_lsa_100.mm', matriz_100)\n",
    "# corpora.MmCorpus.serialize('matriz_lsi_lsa_150.mm', matriz_150)\n",
    "# corpora.MmCorpus.serialize('matriz_lsi_lsa_200.mm', matriz_200)\n",
    "# corpora.MmCorpus.serialize('matriz_lsi_lsa_250.mm', matriz_250)\n",
    "# corpora.MmCorpus.serialize('matriz_lsi_lsa_300.mm', matriz_300)\n",
    "\n",
    "# Transformando vetores em Arrays\n",
    "\n",
    "array_50 = gensim.matutils.corpus2csc(matriz_50)\n",
    "array_100 = gensim.matutils.corpus2csc(matriz_100)\n",
    "array_150 = gensim.matutils.corpus2csc(matriz_150)\n",
    "array_200 = gensim.matutils.corpus2csc(matriz_200)\n",
    "array_250 = gensim.matutils.corpus2csc(matriz_250)\n",
    "array_300 = gensim.matutils.corpus2csc(matriz_300)\n",
    "\n",
    "lsi_lsa_matriz_50 = array_50.T.toarray() # Transformando a Matriz num array\n",
    "lsi_lsa_matriz_100 = array_100.T.toarray() # Transformando a Matriz num array\n",
    "lsi_lsa_matriz_150 = array_150.T.toarray() # Transformando a Matriz num array\n",
    "lsi_lsa_matriz_200 = array_200.T.toarray() # Transformando a Matriz num array\n",
    "lsi_lsa_matriz_250 = array_250.T.toarray() # Transformando a Matriz num array\n",
    "lsi_lsa_matriz_300 = array_300.T.toarray() # Transformando a Matriz num array\n"
   ],
   "cell_type": "code",
   "metadata": {},
   "execution_count": 14,
   "outputs": []
  },
  {
   "cell_type": "code",
   "execution_count": 15,
   "metadata": {},
   "outputs": [],
   "source": [
    "lsi_corpus_50 = gensim.corpora.MmCorpus('Embeddings\\LSA_LSI\\matriz_lsi_lsa_50.mm')\n",
    "lsi_corpus_100 = gensim.corpora.MmCorpus('Embeddings\\LSA_LSI\\matriz_lsi_lsa_100.mm')\n",
    "lsi_corpus_150 = gensim.corpora.MmCorpus('Embeddings\\LSA_LSI\\matriz_lsi_lsa_150.mm')\n",
    "lsi_corpus_200 = gensim.corpora.MmCorpus('Embeddings\\LSA_LSI\\matriz_lsi_lsa_200.mm')\n",
    "lsi_corpus_250 = gensim.corpora.MmCorpus('Embeddings\\LSA_LSI\\matriz_lsi_lsa_250.mm')\n",
    "lsi_corpus_300 = gensim.corpora.MmCorpus('Embeddings\\LSA_LSI\\matriz_lsi_lsa_300.mm')"
   ]
  },
  {
   "cell_type": "code",
   "execution_count": 16,
   "metadata": {},
   "outputs": [
    {
     "output_type": "stream",
     "name": "stdout",
     "text": [
      "MmCorpus(233 documents, 50 features, 11650 non-zero entries)\nMmCorpus(233 documents, 100 features, 23300 non-zero entries)\nMmCorpus(233 documents, 150 features, 33505 non-zero entries)\nMmCorpus(233 documents, 200 features, 44826 non-zero entries)\nMmCorpus(233 documents, 231 features, 51987 non-zero entries)\nMmCorpus(233 documents, 231 features, 51987 non-zero entries)\n"
     ]
    }
   ],
   "source": [
    "print(lsi_corpus_50)\n",
    "print(lsi_corpus_100)\n",
    "print(lsi_corpus_150)\n",
    "print(lsi_corpus_200)\n",
    "print(lsi_corpus_250)\n",
    "print(lsi_corpus_300)"
   ]
  },
  {
   "cell_type": "code",
   "execution_count": null,
   "metadata": {},
   "outputs": [],
   "source": [
    "lsi_lsa_matriz_100"
   ]
  },
  {
   "cell_type": "code",
   "execution_count": null,
   "metadata": {},
   "outputs": [],
   "source": [
    "lsi100 = gensim.matutils.corpus2csc(lsi_corpus_100)\n",
    "lsi = lsi100.T.toarray()"
   ]
  },
  {
   "cell_type": "code",
   "execution_count": null,
   "metadata": {},
   "outputs": [],
   "source": [
    "lsi"
   ]
  },
  {
   "source": [
    "## TopicLSA"
   ],
   "cell_type": "markdown",
   "metadata": {}
  },
  {
   "cell_type": "code",
   "execution_count": 17,
   "metadata": {
    "tags": []
   },
   "outputs": [],
   "source": [
    "import gensim\n",
    "import gensim.corpora as corpora\n",
    "from gensim.utils import simple_preprocess"
   ]
  },
  {
   "cell_type": "code",
   "execution_count": 19,
   "metadata": {},
   "outputs": [
    {
     "output_type": "execute_result",
     "data": {
      "text/plain": [
       "<gensim.corpora.dictionary.Dictionary at 0x1e6c0828608>"
      ]
     },
     "metadata": {},
     "execution_count": 19
    }
   ],
   "source": [
    "dictionary"
   ]
  },
  {
   "cell_type": "code",
   "execution_count": 20,
   "metadata": {},
   "outputs": [],
   "source": [
    "lsi_bow = LsiModel(BoW_corpus, id2word=dictionary)"
   ]
  },
  {
   "cell_type": "code",
   "execution_count": 21,
   "metadata": {},
   "outputs": [
    {
     "output_type": "stream",
     "name": "stdout",
     "text": [
      "topic: 0\n 0.675*\"arar\" + 0.674*\"azul\" + 0.084*\"institut\" + 0.059*\"pantan\" + 0.049*\"tod\" + 0.047*\"filhot\" + 0.045*\"espéci\" + 0.042*\"nasc\" + 0.041*\"quer\" + 0.038*\"hom\"\ntopic: 1\n 0.601*\"institut\" + 0.431*\"pantan\" + 0.261*\"hom\" + 0.225*\"arrecad\" + 0.205*\"liv\" + 0.184*\"jogabil\" + 0.149*\"tod\" + 0.122*\"vai\" + 0.115*\"doaç\" + 0.095*\"faz\"\ntopic: 2\n -0.554*\"bt\" + -0.430*\"twt\" + -0.312*\"transamericabh\" + -0.215*\"btsxsud\" + -0.215*\"lifegoeson\" + -0.215*\"ouv\" + -0.184*\"obrig\" + -0.179*\"quer\" + -0.158*\"toc\" + -0.156*\"grup\"\ntopic: 3\n 0.366*\"espéci\" + 0.352*\"nasc\" + 0.313*\"filhot\" + 0.276*\"incub\" + 0.254*\"itatib\" + 0.253*\"artific\" + 0.231*\"trê\" + 0.219*\"extinç\" + 0.211*\"zoo\" + 0.137*\"ameaç\"\ntopic: 4\n 0.271*\"outr\" + 0.264*\"vc\" + 0.257*\"cabel\" + 0.253*\"pass\" + 0.253*\"car\" + 0.237*\"vermelh\" + -0.206*\"azul\" + -0.203*\"verd\" + 0.142*\"arar\" + 0.141*\"pergunt\"\n"
     ]
    }
   ],
   "source": [
    "topics = lsi_bow.print_topics(num_topics=5, num_words=10)\n",
    "\n",
    "for idx, topic in topics:\n",
    "  print(\"topic: {}\\n {}\".format(idx, topic))"
   ]
  },
  {
   "cell_type": "code",
   "execution_count": 22,
   "metadata": {},
   "outputs": [],
   "source": [
    "\n",
    "## Será utilizado como entrada a Matriz Gerada anteriormente \"tfidf_matriz\"\n",
    "## Redução de dimensionalidade: 50, 100, 150, 200, 250, 300\n",
    "\n",
    "from gensim.models import LsiModel\n",
    "from gensim import corpora\n",
    "\n",
    "# Utilizando a representação inicial como entrada\n",
    "\n",
    "Bow = corpora.MmCorpus('Embeddings\\BOW\\BoW_corpus.mm')\n",
    "\n",
    "# Aplicando a dimensionalidade\n",
    "\n",
    "Topic_lsi_model_50 = LsiModel(Bow, num_topics=50,id2word=dictionary)\n",
    "Topic_lsi_model_100 = LsiModel(Bow, num_topics=100,id2word=dictionary)\n",
    "Topic_lsi_model_150 = LsiModel(Bow, num_topics=150,id2word=dictionary)\n",
    "Topic_lsi_model_200 = LsiModel(Bow, num_topics=200,id2word=dictionary)\n",
    "Topic_lsi_model_250 = LsiModel(Bow, num_topics=250,id2word=dictionary)\n",
    "Topic_lsi_model_300 = LsiModel(Bow, num_topics=300,id2word=dictionary)\n",
    "\n",
    "# # Vetorizando\n",
    "#  # vectorize input corpus in BoW format\n",
    "\n",
    "Topic_lsi_vectorized_corpus_50 = Topic_lsi_model_50[Bow]\n",
    "Topic_lsi_vectorized_corpus_100 = Topic_lsi_model_100[Bow]\n",
    "Topic_lsi_vectorized_corpus_150 = Topic_lsi_model_150[Bow]\n",
    "Topic_lsi_vectorized_corpus_200 = Topic_lsi_model_200[Bow]\n",
    "Topic_lsi_vectorized_corpus_250 = Topic_lsi_model_250[Bow]\n",
    "Topic_lsi_vectorized_corpus_300 = Topic_lsi_model_300[Bow]\n",
    "\n",
    "\n",
    "Topic_matriz_50 = Topic_lsi_vectorized_corpus_50\n",
    "Topic_matriz_100 = Topic_lsi_vectorized_corpus_100\n",
    "Topic_matriz_150 = Topic_lsi_vectorized_corpus_150\n",
    "Topic_matriz_200 = Topic_lsi_vectorized_corpus_200\n",
    "Topic_matriz_250 = Topic_lsi_vectorized_corpus_250\n",
    "Topic_matriz_300 = Topic_lsi_vectorized_corpus_300\n",
    "\n",
    "# Exportando Matrizes\n",
    "\n",
    "# corpora.MmCorpus.serialize('Topic_lsa_50.mm', Topic_matriz_50)\n",
    "# corpora.MmCorpus.serialize('Topic_lsa_100.mm', Topic_matriz_100)\n",
    "# corpora.MmCorpus.serialize('Topic_lsa_150.mm', Topic_matriz_150)\n",
    "# corpora.MmCorpus.serialize('Topic_lsa_200.mm', Topic_matriz_200)\n",
    "# corpora.MmCorpus.serialize('Topic_lsa_250.mm', Topic_matriz_250)\n",
    "# corpora.MmCorpus.serialize('Topic_lsa_300.mm', Topic_matriz_300)\n",
    "\n",
    "# Transformando vetores em Arrays\n",
    "\n",
    "Topic_array_50 = gensim.matutils.corpus2csc(Topic_matriz_50)\n",
    "Topic_array_100 = gensim.matutils.corpus2csc(Topic_matriz_100)\n",
    "Topic_array_150 = gensim.matutils.corpus2csc(Topic_matriz_150)\n",
    "Topic_array_200 = gensim.matutils.corpus2csc(Topic_matriz_200)\n",
    "Topic_array_250 = gensim.matutils.corpus2csc(Topic_matriz_250)\n",
    "Topic_array_300 = gensim.matutils.corpus2csc(Topic_matriz_300)\n",
    "\n",
    "Topic_lsi_lsa_matriz_50 = Topic_array_50.T.toarray() # Transformando a Matriz num array\n",
    "Topic_lsi_lsa_matriz_100 = Topic_array_100.T.toarray() # Transformando a Matriz num array\n",
    "Topic_lsi_lsa_matriz_150 = Topic_array_150.T.toarray() # Transformando a Matriz num array\n",
    "Topic_lsi_lsa_matriz_200 = Topic_array_200.T.toarray() # Transformando a Matriz num array\n",
    "Topic_lsi_lsa_matriz_250 = Topic_array_250.T.toarray() # Transformando a Matriz num array\n",
    "Topic_lsi_lsa_matriz_300 = Topic_array_300.T.toarray() # Transformando a Matriz num array\n"
   ]
  },
  {
   "cell_type": "code",
   "execution_count": 23,
   "metadata": {},
   "outputs": [
    {
     "output_type": "stream",
     "name": "stdout",
     "text": [
      "[-1.48447444 -0.161658   -0.12056494 -0.17032734  0.6497804  -0.01185618\n  0.06398432  0.06021826  0.12448648  0.10681796 -0.1004324  -0.08928637\n  0.119955   -0.2462014  -0.28077505  0.05831872 -0.09810382 -0.05976139\n -0.12317632 -0.14833318 -0.13732623  0.18364925 -0.16882655 -0.47639984\n  0.2625217  -0.23901924 -0.5661666  -0.24684328  0.27079688  0.0630312\n  0.24214139 -0.09146503 -0.30328656 -0.067573    0.24141897 -1.0385373\n  0.55016961  0.01383745  0.33746945 -0.21306603  0.25773656  0.47195701\n  0.22584274 -0.19139522 -0.00683698 -0.42921776  0.27363117  0.07440084\n  0.02521371  0.38750298]\n"
     ]
    }
   ],
   "source": [
    "print(Topic_lsi_lsa_matriz_50[0])"
   ]
  },
  {
   "source": [
    "## LDA"
   ],
   "cell_type": "markdown",
   "metadata": {}
  },
  {
   "cell_type": "code",
   "execution_count": 24,
   "metadata": {},
   "outputs": [],
   "source": [
    "from gensim.models import LdaModel\n",
    "from gensim import corpora\n",
    "\n",
    "lda_corpus = corpora.MmCorpus('Embeddings\\BOW\\BoW_corpus.mm')\n",
    "lda_dictionary = dictionary"
   ]
  },
  {
   "cell_type": "code",
   "execution_count": 46,
   "metadata": {},
   "outputs": [],
   "source": [
    "# Contruindo o Modelo conforme a dimensionalidade\n",
    "\n",
    "lda_model_50 = LdaModel(corpus=lda_corpus, id2word=lda_dictionary, num_topics=50, random_state=100, update_every=1, chunksize=100, alpha='auto')\n",
    "lda_model_100 = LdaModel(corpus=lda_corpus, id2word=lda_dictionary, num_topics=100, random_state=100, update_every=1, chunksize=100, alpha='auto')\n",
    "lda_model_150 = LdaModel(corpus=lda_corpus, id2word=lda_dictionary, num_topics=150, random_state=100, update_every=1, chunksize=100, alpha='auto')\n",
    "lda_model_200 = LdaModel(corpus=lda_corpus, id2word=lda_dictionary, num_topics=200, random_state=100, update_every=1, chunksize=100, alpha='auto')\n",
    "lda_model_250 = LdaModel(corpus=lda_corpus, id2word=lda_dictionary, num_topics=250, random_state=100, update_every=1, chunksize=100, alpha='auto')\n",
    "lda_model_300 = LdaModel(corpus=lda_corpus, id2word=lda_dictionary, num_topics=300, random_state=100, update_every=1, chunksize=100, alpha='auto')"
   ]
  },
  {
   "cell_type": "code",
   "execution_count": 47,
   "metadata": {},
   "outputs": [],
   "source": [
    "lda_model_50_vetor = lda_model_50[lda_corpus]\n",
    "lda_model_100_vetor = lda_model_100[lda_corpus]\n",
    "lda_model_150_vetor = lda_model_150[lda_corpus]\n",
    "lda_model_200_vetor = lda_model_200[lda_corpus]\n",
    "lda_model_250_vetor = lda_model_250[lda_corpus]\n",
    "lda_model_300_vetor = lda_model_300[lda_corpus]"
   ]
  },
  {
   "cell_type": "code",
   "execution_count": 49,
   "metadata": {},
   "outputs": [],
   "source": [
    "corpora.MmCorpus.serialize('Lda_model_50.mm', lda_model_50_vetor)\n",
    "corpora.MmCorpus.serialize('Lda_model_100.mm', lda_model_100_vetor)\n",
    "corpora.MmCorpus.serialize('Lda_model_150.mm', lda_model_150_vetor)\n",
    "corpora.MmCorpus.serialize('Lda_model_200.mm', lda_model_200_vetor)\n",
    "corpora.MmCorpus.serialize('Lda_model_250.mm', lda_model_250_vetor)\n",
    "corpora.MmCorpus.serialize('Lda_model_300.mm', lda_model_300_vetor)"
   ]
  },
  {
   "source": [
    "##  WORD2VEC"
   ],
   "cell_type": "markdown",
   "metadata": {}
  },
  {
   "cell_type": "code",
   "execution_count": 110,
   "metadata": {
    "tags": []
   },
   "outputs": [],
   "source": [
    "from gensim.models import Word2Vec\n",
    "\n",
    "sentences = doc_tokenized\n",
    "model_cbow = Word2Vec(sentences, size=50, window=3, min_count=1, sg=0)\n",
    "model_skip = Word2Vec(sentences, size=50, window=3, min_count=1, sg=1)"
   ]
  },
  {
   "cell_type": "code",
   "execution_count": 111,
   "metadata": {},
   "outputs": [
    {
     "output_type": "stream",
     "name": "stdout",
     "text": [
      "Word2Vec(vocab=1203, size=50, alpha=0.025)\nWord2Vec(vocab=1203, size=50, alpha=0.025)\n"
     ]
    }
   ],
   "source": [
    "print(model_cbow)\n",
    "print(model_skip)"
   ]
  },
  {
   "cell_type": "code",
   "execution_count": 134,
   "metadata": {},
   "outputs": [
    {
     "output_type": "stream",
     "name": "stdout",
     "text": [
      "['famíl', 'louc', 'demal', 'kkk', 'tio', 'pergunt', 'pra', 'outr', 'tio', 'trabalh', 'ibam', 'quant', 'arar', 'azul']\n"
     ]
    },
    {
     "output_type": "error",
     "ename": "TypeError",
     "evalue": "'numpy.float64' object is not iterable",
     "traceback": [
      "\u001b[1;31m---------------------------------------------------------------------------\u001b[0m",
      "\u001b[1;31mTypeError\u001b[0m                                 Traceback (most recent call last)",
      "\u001b[1;32m<ipython-input-134-08e621477e3e>\u001b[0m in \u001b[0;36m<module>\u001b[1;34m\u001b[0m\n\u001b[0;32m      8\u001b[0m \u001b[0mwords\u001b[0m \u001b[1;33m=\u001b[0m \u001b[1;33m[\u001b[0m\u001b[0mword\u001b[0m \u001b[1;32mfor\u001b[0m \u001b[0mword\u001b[0m \u001b[1;32min\u001b[0m \u001b[0mtestelinha\u001b[0m \u001b[1;32mif\u001b[0m \u001b[0mword\u001b[0m \u001b[1;32min\u001b[0m \u001b[0mmodel_cbow\u001b[0m\u001b[1;33m.\u001b[0m\u001b[0mwv\u001b[0m\u001b[1;33m.\u001b[0m\u001b[0mvocab\u001b[0m\u001b[1;33m]\u001b[0m\u001b[1;33m\u001b[0m\u001b[1;33m\u001b[0m\u001b[0m\n\u001b[0;32m      9\u001b[0m \u001b[1;32mfor\u001b[0m \u001b[0mw\u001b[0m \u001b[1;32min\u001b[0m \u001b[0mwords\u001b[0m\u001b[1;33m:\u001b[0m\u001b[1;33m\u001b[0m\u001b[1;33m\u001b[0m\u001b[0m\n\u001b[1;32m---> 10\u001b[1;33m     \u001b[0maverage\u001b[0m \u001b[1;33m=\u001b[0m \u001b[0msum\u001b[0m\u001b[1;33m(\u001b[0m\u001b[0msum\u001b[0m\u001b[1;33m(\u001b[0m\u001b[0mmodel_cbow\u001b[0m\u001b[1;33m[\u001b[0m\u001b[0mw\u001b[0m\u001b[1;33m]\u001b[0m\u001b[1;33m)\u001b[0m\u001b[1;33m/\u001b[0m\u001b[1;36m50\u001b[0m\u001b[1;33m)\u001b[0m\u001b[1;33m/\u001b[0m\u001b[0mlen\u001b[0m\u001b[1;33m(\u001b[0m\u001b[0mtestelinha\u001b[0m\u001b[1;33m)\u001b[0m\u001b[1;33m\u001b[0m\u001b[1;33m\u001b[0m\u001b[0m\n\u001b[0m\u001b[0;32m     11\u001b[0m     \u001b[0mprint\u001b[0m\u001b[1;33m(\u001b[0m\u001b[0maverage\u001b[0m\u001b[1;33m)\u001b[0m\u001b[1;33m\u001b[0m\u001b[1;33m\u001b[0m\u001b[0m\n",
      "\u001b[1;31mTypeError\u001b[0m: 'numpy.float64' object is not iterable"
     ]
    }
   ],
   "source": []
  },
  {
   "cell_type": "code",
   "execution_count": null,
   "metadata": {},
   "outputs": [],
   "source": []
  }
 ]
}