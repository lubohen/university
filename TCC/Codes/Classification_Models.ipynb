{
 "metadata": {
  "language_info": {
   "codemirror_mode": {
    "name": "ipython",
    "version": 3
   },
   "file_extension": ".py",
   "mimetype": "text/x-python",
   "name": "python",
   "nbconvert_exporter": "python",
   "pygments_lexer": "ipython3",
   "version": "3.7.7-final"
  },
  "orig_nbformat": 2,
  "kernelspec": {
   "name": "python3",
   "display_name": "Python 3"
  }
 },
 "nbformat": 4,
 "nbformat_minor": 2,
 "cells": [
  {
   "cell_type": "code",
   "execution_count": 1,
   "metadata": {},
   "outputs": [
    {
     "output_type": "execute_result",
     "data": {
      "text/plain": [
       "                                               Tweet  ... Classification\n",
       "0  Minha família é louca demais kkk\\nMeu tio perg...  ...             -1\n",
       "1  Se é azul e fala, só pode ser uma arara https:...  ...              0\n",
       "2  E ontem o cara me aparece com uma arara azul n...  ...             -1\n",
       "3  @hallwayghost KAKAKKAKA a arara azul era de um...  ...             -1\n",
       "4  @twentyhalpert eu moro interior to acostumada ...  ...              0\n",
       "\n",
       "[5 rows x 10 columns]"
      ],
      "text/html": "<div>\n<style scoped>\n    .dataframe tbody tr th:only-of-type {\n        vertical-align: middle;\n    }\n\n    .dataframe tbody tr th {\n        vertical-align: top;\n    }\n\n    .dataframe thead th {\n        text-align: right;\n    }\n</style>\n<table border=\"1\" class=\"dataframe\">\n  <thead>\n    <tr style=\"text-align: right;\">\n      <th></th>\n      <th>Tweet</th>\n      <th>Creation_date</th>\n      <th>Name</th>\n      <th>User</th>\n      <th>location</th>\n      <th>retweets</th>\n      <th>favorites</th>\n      <th>friends_count</th>\n      <th>followers_count</th>\n      <th>Classification</th>\n    </tr>\n  </thead>\n  <tbody>\n    <tr>\n      <th>0</th>\n      <td>Minha família é louca demais kkk\\nMeu tio perg...</td>\n      <td>Pablo Lemes</td>\n      <td>sou_pablo2</td>\n      <td>29/11/2020 18:01</td>\n      <td>Brasília, Brasil</td>\n      <td>0</td>\n      <td>1</td>\n      <td>271</td>\n      <td>244</td>\n      <td>-1</td>\n    </tr>\n    <tr>\n      <th>1</th>\n      <td>Se é azul e fala, só pode ser uma arara https:...</td>\n      <td>MMD&amp;Doider 💃</td>\n      <td>BeckieApenas</td>\n      <td>29/11/2020 17:18</td>\n      <td>Manaus, Brazil</td>\n      <td>0</td>\n      <td>0</td>\n      <td>192</td>\n      <td>105</td>\n      <td>0</td>\n    </tr>\n    <tr>\n      <th>2</th>\n      <td>E ontem o cara me aparece com uma arara azul n...</td>\n      <td>Vanderson 🦅</td>\n      <td>Vaandoo_</td>\n      <td>29/11/2020 14:55</td>\n      <td>São Bernardo do Campo</td>\n      <td>0</td>\n      <td>1</td>\n      <td>376</td>\n      <td>577</td>\n      <td>-1</td>\n    </tr>\n    <tr>\n      <th>3</th>\n      <td>@hallwayghost KAKAKKAKA a arara azul era de um...</td>\n      <td>duda • 📖: hdo⁵</td>\n      <td>twentyhalpert</td>\n      <td>29/11/2020 03:44</td>\n      <td>NaN</td>\n      <td>0</td>\n      <td>0</td>\n      <td>6652</td>\n      <td>6693</td>\n      <td>-1</td>\n    </tr>\n    <tr>\n      <th>4</th>\n      <td>@twentyhalpert eu moro interior to acostumada ...</td>\n      <td>pâmela</td>\n      <td>hallwayghost</td>\n      <td>29/11/2020 03:40</td>\n      <td>🏡 = frens</td>\n      <td>0</td>\n      <td>0</td>\n      <td>586</td>\n      <td>641</td>\n      <td>0</td>\n    </tr>\n  </tbody>\n</table>\n</div>"
     },
     "metadata": {},
     "execution_count": 1
    }
   ],
   "source": [
    "## Carga do Dataset\n",
    "\n",
    "import pandas as pd \n",
    "import numpy as np \n",
    "\n",
    "dataset = pd.read_csv(\"Datasets\\AraraAzul_Class_20201129.csv\", delimiter=\";\", encoding=\"utf-8\") # Utilização do dataset classificado manualmente com os Tweets\n",
    "dataset.head()"
   ]
  },
  {
   "cell_type": "code",
   "execution_count": 2,
   "metadata": {},
   "outputs": [],
   "source": [
    "dataset['Classification'] = dataset['Classification'].fillna(0)\n",
    "dataset[\"Classification\"] = dataset[\"Classification\"].astype(int)"
   ]
  },
  {
   "cell_type": "code",
   "execution_count": 3,
   "metadata": {},
   "outputs": [
    {
     "output_type": "execute_result",
     "data": {
      "text/plain": [
       "                                               Tweet  ... Classification\n",
       "0  Minha família é louca demais kkk\\nMeu tio perg...  ...             -1\n",
       "1  Se é azul e fala, só pode ser uma arara https:...  ...              0\n",
       "2  E ontem o cara me aparece com uma arara azul n...  ...             -1\n",
       "3  @hallwayghost KAKAKKAKA a arara azul era de um...  ...             -1\n",
       "4  @twentyhalpert eu moro interior to acostumada ...  ...              0\n",
       "\n",
       "[5 rows x 10 columns]"
      ],
      "text/html": "<div>\n<style scoped>\n    .dataframe tbody tr th:only-of-type {\n        vertical-align: middle;\n    }\n\n    .dataframe tbody tr th {\n        vertical-align: top;\n    }\n\n    .dataframe thead th {\n        text-align: right;\n    }\n</style>\n<table border=\"1\" class=\"dataframe\">\n  <thead>\n    <tr style=\"text-align: right;\">\n      <th></th>\n      <th>Tweet</th>\n      <th>Creation_date</th>\n      <th>Name</th>\n      <th>User</th>\n      <th>location</th>\n      <th>retweets</th>\n      <th>favorites</th>\n      <th>friends_count</th>\n      <th>followers_count</th>\n      <th>Classification</th>\n    </tr>\n  </thead>\n  <tbody>\n    <tr>\n      <th>0</th>\n      <td>Minha família é louca demais kkk\\nMeu tio perg...</td>\n      <td>Pablo Lemes</td>\n      <td>sou_pablo2</td>\n      <td>29/11/2020 18:01</td>\n      <td>Brasília, Brasil</td>\n      <td>0</td>\n      <td>1</td>\n      <td>271</td>\n      <td>244</td>\n      <td>-1</td>\n    </tr>\n    <tr>\n      <th>1</th>\n      <td>Se é azul e fala, só pode ser uma arara https:...</td>\n      <td>MMD&amp;Doider 💃</td>\n      <td>BeckieApenas</td>\n      <td>29/11/2020 17:18</td>\n      <td>Manaus, Brazil</td>\n      <td>0</td>\n      <td>0</td>\n      <td>192</td>\n      <td>105</td>\n      <td>0</td>\n    </tr>\n    <tr>\n      <th>2</th>\n      <td>E ontem o cara me aparece com uma arara azul n...</td>\n      <td>Vanderson 🦅</td>\n      <td>Vaandoo_</td>\n      <td>29/11/2020 14:55</td>\n      <td>São Bernardo do Campo</td>\n      <td>0</td>\n      <td>1</td>\n      <td>376</td>\n      <td>577</td>\n      <td>-1</td>\n    </tr>\n    <tr>\n      <th>3</th>\n      <td>@hallwayghost KAKAKKAKA a arara azul era de um...</td>\n      <td>duda • 📖: hdo⁵</td>\n      <td>twentyhalpert</td>\n      <td>29/11/2020 03:44</td>\n      <td>NaN</td>\n      <td>0</td>\n      <td>0</td>\n      <td>6652</td>\n      <td>6693</td>\n      <td>-1</td>\n    </tr>\n    <tr>\n      <th>4</th>\n      <td>@twentyhalpert eu moro interior to acostumada ...</td>\n      <td>pâmela</td>\n      <td>hallwayghost</td>\n      <td>29/11/2020 03:40</td>\n      <td>🏡 = frens</td>\n      <td>0</td>\n      <td>0</td>\n      <td>586</td>\n      <td>641</td>\n      <td>0</td>\n    </tr>\n  </tbody>\n</table>\n</div>"
     },
     "metadata": {},
     "execution_count": 3
    }
   ],
   "source": [
    "dataset.head()"
   ]
  },
  {
   "cell_type": "code",
   "execution_count": 9,
   "metadata": {},
   "outputs": [],
   "source": [
    "import gensim\n",
    "from gensim import corpora\n",
    "\n",
    "# Importando os Embeddings e transformando num array\n",
    "\n",
    "\n",
    "tf_idf_emb = corpora.MmCorpus('Embeddings\\TF_IDF\\matriz_tfidf.mm')\n",
    "tf_idf_emb = gensim.matutils.corpus2csc(tf_idf_emb)\n",
    "tf_idf_emb = tf_idf_emb.T.toarray()"
   ]
  },
  {
   "cell_type": "code",
   "execution_count": 10,
   "metadata": {},
   "outputs": [
    {
     "output_type": "stream",
     "name": "stdout",
     "text": [
      "[[0.00255403 0.00229355 0.25477148 ... 0.         0.         0.        ]\n [0.00765648 0.00687561 0.         ... 0.         0.         0.        ]\n [0.00388055 0.00348478 0.         ... 0.         0.         0.        ]\n ...\n [0.00369792 0.00332078 0.         ... 0.         0.         0.        ]\n [0.00224915 0.00201976 0.         ... 0.         0.         0.        ]\n [0.00277388 0.00249097 0.         ... 0.34647662 0.34647662 0.34647662]]\n"
     ]
    }
   ],
   "source": [
    "print(tf_idf_emb)"
   ]
  },
  {
   "cell_type": "code",
   "execution_count": 11,
   "metadata": {},
   "outputs": [],
   "source": [
    "# Dividindo o Dataset em treino e test (TF-IDF)\n",
    "\n",
    "\n",
    "X = tf_idf_emb #Embeddings\n",
    "y = dataset.iloc[:, -1].values # Obtem o valor da coluna \"Classification\" do dataset\n",
    "\n",
    "from sklearn.model_selection import train_test_split\n",
    "X_train, X_test, y_train, y_test = train_test_split(X, y, test_size = 0.2, random_state = 0)"
   ]
  },
  {
   "cell_type": "code",
   "execution_count": 16,
   "metadata": {},
   "outputs": [
    {
     "output_type": "execute_result",
     "data": {
      "text/plain": [
       "GaussianNB()"
      ]
     },
     "metadata": {},
     "execution_count": 16
    }
   ],
   "source": [
    "## Treino NAIVE BAYES model\n",
    "\n",
    "from sklearn.naive_bayes import GaussianNB\n",
    "classifier = GaussianNB()\n",
    "classifier.fit(X_train, y_train)"
   ]
  },
  {
   "cell_type": "code",
   "execution_count": 18,
   "metadata": {},
   "outputs": [
    {
     "output_type": "stream",
     "name": "stdout",
     "text": [
      "[[ 2  2  0]\n [ 4 29  4]\n [ 0  4  2]]\n"
     ]
    },
    {
     "output_type": "execute_result",
     "data": {
      "text/plain": [
       "0.7021276595744681"
      ]
     },
     "metadata": {},
     "execution_count": 18
    }
   ],
   "source": [
    "#Testes e Resultados Naive\n",
    "\n",
    "y_pred = classifier.predict(X_test)\n",
    "\n",
    "from sklearn.metrics import confusion_matrix, accuracy_score\n",
    "cm = confusion_matrix(y_test, y_pred)\n",
    "print(cm)\n",
    "accuracy_score(y_test, y_pred)"
   ]
  },
  {
   "cell_type": "code",
   "execution_count": 37,
   "metadata": {},
   "outputs": [
    {
     "output_type": "execute_result",
     "data": {
      "text/plain": [
       "LogisticRegression(random_state=0)"
      ]
     },
     "metadata": {},
     "execution_count": 37
    }
   ],
   "source": [
    "# Regressão Logistica\n",
    "\n",
    "from sklearn.linear_model import LogisticRegression\n",
    "classifier = LogisticRegression(random_state = 0, penalty=\"l2\", tol=0.0001)\n",
    "classifier.fit(X_train, y_train)"
   ]
  },
  {
   "cell_type": "code",
   "execution_count": 38,
   "metadata": {},
   "outputs": [
    {
     "output_type": "stream",
     "name": "stdout",
     "text": [
      "[[ 0  4  0]\n [ 0 37  0]\n [ 0  6  0]]\n"
     ]
    },
    {
     "output_type": "execute_result",
     "data": {
      "text/plain": [
       "0.7872340425531915"
      ]
     },
     "metadata": {},
     "execution_count": 38
    }
   ],
   "source": [
    "y_pred = classifier.predict(X_test)\n",
    "\n",
    "from sklearn.metrics import confusion_matrix, accuracy_score\n",
    "cm = confusion_matrix(y_test, y_pred)\n",
    "print(cm)\n",
    "accuracy_score(y_test, y_pred)"
   ]
  },
  {
   "cell_type": "code",
   "execution_count": 39,
   "metadata": {},
   "outputs": [
    {
     "output_type": "execute_result",
     "data": {
      "text/plain": [
       "SVC(random_state=0)"
      ]
     },
     "metadata": {},
     "execution_count": 39
    }
   ],
   "source": [
    "## Kernel SVM\n",
    "\n",
    "from sklearn.svm import SVC\n",
    "classifier = SVC(kernel = 'rbf', random_state = 0)\n",
    "classifier.fit(X_train, y_train)"
   ]
  },
  {
   "cell_type": "code",
   "execution_count": 40,
   "metadata": {},
   "outputs": [
    {
     "output_type": "stream",
     "name": "stdout",
     "text": [
      "[[ 0  4  0]\n [ 0 37  0]\n [ 0  6  0]]\n"
     ]
    },
    {
     "output_type": "execute_result",
     "data": {
      "text/plain": [
       "0.7872340425531915"
      ]
     },
     "metadata": {},
     "execution_count": 40
    }
   ],
   "source": [
    "y_pred_SVC = classifier.predict(X_test)\n",
    "\n",
    "from sklearn.metrics import confusion_matrix, accuracy_score\n",
    "cm = confusion_matrix(y_test, y_pred_SVC)\n",
    "print(cm)\n",
    "accuracy_score(y_test, y_pred_SVC)"
   ]
  },
  {
   "cell_type": "code",
   "execution_count": null,
   "metadata": {},
   "outputs": [],
   "source": []
  }
 ]
}