{
 "metadata": {
  "language_info": {
   "codemirror_mode": {
    "name": "ipython",
    "version": 3
   },
   "file_extension": ".py",
   "mimetype": "text/x-python",
   "name": "python",
   "nbconvert_exporter": "python",
   "pygments_lexer": "ipython3",
   "version": "3.7.7-final"
  },
  "orig_nbformat": 2,
  "kernelspec": {
   "name": "python3",
   "display_name": "Python 3"
  }
 },
 "nbformat": 4,
 "nbformat_minor": 2,
 "cells": [
  {
   "cell_type": "code",
   "execution_count": 1,
   "metadata": {},
   "outputs": [],
   "source": [
    "import yaml\n",
    "config = dict(\n",
    "    search_tweets_api = dict(\n",
    "        account_type = 'premium',\n",
    "        endpoint = 'https://api.twitter.com/1.1/tweets/search/fullarchive/AcademicProject.json',\n",
    "        consumer_key = '',\n",
    "        consumer_secret = ''\n",
    "    )\n",
    ")\n",
    "with open('twitter_keys_fullarchive.yaml', 'w') as config_file:\n",
    "    yaml.dump(config, config_file, default_flow_style=False)"
   ]
  },
  {
   "cell_type": "code",
   "execution_count": 2,
   "metadata": {},
   "outputs": [
    {
     "output_type": "stream",
     "name": "stderr",
     "text": [
      "Grabbing bearer token from OAUTH\n",
      "{'bearer_token': 'AAAAAAAAAAAAAAAAAAAAAB%2BREQEAAAAAoPCiTY8kyDg2mcVc22LkENQzg%2Fw%3DTnqxNce5FonUgekxE7gvifrpq1ccuxQrGHPL6JhnUcCqCT3a8P', 'endpoint': 'https://api.twitter.com/1.1/tweets/search/fullarchive/AcademicProject.json', 'extra_headers_dict': None}\n"
     ]
    }
   ],
   "source": [
    "from searchtweets import load_credentials\n",
    "\n",
    "premium_search_args = load_credentials(\"twitter_keys_fullarchive.yaml\",\n",
    "                                       yaml_key=\"search_tweets_api\",\n",
    "                                       env_overwrite=False)\n",
    "print(premium_search_args)"
   ]
  },
  {
   "cell_type": "code",
   "execution_count": 14,
   "metadata": {},
   "outputs": [],
   "source": [
    "from searchtweets import gen_rule_payload\n",
    "\n",
    "query = \"Arara-azul\"\n",
    "rule = gen_rule_payload(query, results_per_call=500, from_date=\"2018-01-01\", to_date=\"2020-11-27\")  "
   ]
  },
  {
   "cell_type": "code",
   "execution_count": 15,
   "metadata": {},
   "outputs": [
    {
     "output_type": "stream",
     "name": "stdout",
     "text": [
      "ResultStream: \n\t{\n    \"username\": null,\n    \"endpoint\": \"https://api.twitter.com/1.1/tweets/search/fullarchive/AcademicProject.json\",\n    \"rule_payload\": {\n        \"query\": \"Arara-azul\",\n        \"maxResults\": 500,\n        \"toDate\": \"202011270000\",\n        \"fromDate\": \"201801010000\"\n    },\n    \"tweetify\": true,\n    \"max_results\": 3000\n}\n"
     ]
    }
   ],
   "source": [
    "from searchtweets import ResultStream\n",
    "\n",
    "rs = ResultStream(rule_payload=rule,\n",
    "                  max_results=3000,\n",
    "                  **premium_search_args)\n",
    "print(rs)"
   ]
  },
  {
   "cell_type": "code",
   "execution_count": 16,
   "metadata": {},
   "outputs": [
    {
     "output_type": "stream",
     "name": "stderr",
     "text": [
      "HTTP Error code: 429: {\"error\":{\"message\":\"Request exceeds account’s current package request limits. Please upgrade your package and retry or contact Twitter about enterprise access.\",\"sent\":\"2020-11-27T17:31:05+00:00\",\"transactionId\":\"00dfde8800fde3ec\"}}\n",
      "Request payload: {'query': 'Arara-azul', 'maxResults': 500, 'toDate': '202011270000', 'fromDate': '201801010000'}\n",
      "Rate limit hit... Will retry...\n",
      "Will retry in 4 seconds...\n",
      "HTTP Error code: 429: {\"error\":{\"message\":\"Request exceeds account’s current package request limits. Please upgrade your package and retry or contact Twitter about enterprise access.\",\"sent\":\"2020-11-27T17:31:09+00:00\",\"transactionId\":\"00d3e511003eaf4b\"}}\n",
      "Request payload: {'query': 'Arara-azul', 'maxResults': 500, 'toDate': '202011270000', 'fromDate': '201801010000'}\n",
      "Rate limit hit... Will retry...\n",
      "Will retry in 16 seconds...\n",
      "HTTP Error code: 429: {\"error\":{\"message\":\"Request exceeds account’s current package request limits. Please upgrade your package and retry or contact Twitter about enterprise access.\",\"sent\":\"2020-11-27T17:31:25+00:00\",\"transactionId\":\"003e5ca100e262a5\"}}\n",
      "Request payload: {'query': 'Arara-azul', 'maxResults': 500, 'toDate': '202011270000', 'fromDate': '201801010000'}\n",
      "Rate limit hit... Will retry...\n",
      "Will retry in 36 seconds...\n",
      "HTTP Error code: 429: {\"error\":{\"message\":\"Request exceeds account’s current package request limits. Please upgrade your package and retry or contact Twitter about enterprise access.\",\"sent\":\"2020-11-27T17:32:01+00:00\",\"transactionId\":\"0035e914007bfce0\"}}\n",
      "Request payload: {'query': 'Arara-azul', 'maxResults': 500, 'toDate': '202011270000', 'fromDate': '201801010000'}\n",
      "Rate limit hit... Will retry...\n",
      "Will retry in 64 seconds...\n"
     ]
    },
    {
     "output_type": "error",
     "ename": "KeyboardInterrupt",
     "evalue": "",
     "traceback": [
      "\u001b[1;31m---------------------------------------------------------------------------\u001b[0m",
      "\u001b[1;31mKeyboardInterrupt\u001b[0m                         Traceback (most recent call last)",
      "\u001b[1;32m<ipython-input-16-9a726daca359>\u001b[0m in \u001b[0;36m<module>\u001b[1;34m\u001b[0m\n\u001b[0;32m      1\u001b[0m \u001b[1;32mimport\u001b[0m \u001b[0mjson\u001b[0m\u001b[1;33m\u001b[0m\u001b[1;33m\u001b[0m\u001b[0m\n\u001b[0;32m      2\u001b[0m \u001b[1;32mwith\u001b[0m \u001b[0mopen\u001b[0m\u001b[1;33m(\u001b[0m\u001b[1;34m'tweetsData.jsonl'\u001b[0m\u001b[1;33m,\u001b[0m \u001b[1;34m'a'\u001b[0m\u001b[1;33m,\u001b[0m \u001b[0mencoding\u001b[0m\u001b[1;33m=\u001b[0m\u001b[1;34m'utf-8'\u001b[0m\u001b[1;33m)\u001b[0m \u001b[1;32mas\u001b[0m \u001b[0mf\u001b[0m\u001b[1;33m:\u001b[0m\u001b[1;33m\u001b[0m\u001b[1;33m\u001b[0m\u001b[0m\n\u001b[1;32m----> 3\u001b[1;33m     \u001b[1;32mfor\u001b[0m \u001b[0mtweet\u001b[0m \u001b[1;32min\u001b[0m \u001b[0mrs\u001b[0m\u001b[1;33m.\u001b[0m\u001b[0mstream\u001b[0m\u001b[1;33m(\u001b[0m\u001b[1;33m)\u001b[0m\u001b[1;33m:\u001b[0m\u001b[1;33m\u001b[0m\u001b[1;33m\u001b[0m\u001b[0m\n\u001b[0m\u001b[0;32m      4\u001b[0m         \u001b[0mjson\u001b[0m\u001b[1;33m.\u001b[0m\u001b[0mdump\u001b[0m\u001b[1;33m(\u001b[0m\u001b[0mtweet\u001b[0m\u001b[1;33m,\u001b[0m \u001b[0mf\u001b[0m\u001b[1;33m)\u001b[0m\u001b[1;33m\u001b[0m\u001b[1;33m\u001b[0m\u001b[0m\n\u001b[0;32m      5\u001b[0m         \u001b[0mf\u001b[0m\u001b[1;33m.\u001b[0m\u001b[0mwrite\u001b[0m\u001b[1;33m(\u001b[0m\u001b[1;34m'\\n'\u001b[0m\u001b[1;33m)\u001b[0m\u001b[1;33m\u001b[0m\u001b[1;33m\u001b[0m\u001b[0m\n",
      "\u001b[1;32m~\\.conda\\envs\\uspenv\\lib\\site-packages\\searchtweets\\result_stream.py\u001b[0m in \u001b[0;36mstream\u001b[1;34m(self)\u001b[0m\n\u001b[0;32m    220\u001b[0m         \u001b[0mself\u001b[0m\u001b[1;33m.\u001b[0m\u001b[0minit_session\u001b[0m\u001b[1;33m(\u001b[0m\u001b[1;33m)\u001b[0m\u001b[1;33m\u001b[0m\u001b[1;33m\u001b[0m\u001b[0m\n\u001b[0;32m    221\u001b[0m         \u001b[0mself\u001b[0m\u001b[1;33m.\u001b[0m\u001b[0mcheck_counts\u001b[0m\u001b[1;33m(\u001b[0m\u001b[1;33m)\u001b[0m\u001b[1;33m\u001b[0m\u001b[1;33m\u001b[0m\u001b[0m\n\u001b[1;32m--> 222\u001b[1;33m         \u001b[0mself\u001b[0m\u001b[1;33m.\u001b[0m\u001b[0mexecute_request\u001b[0m\u001b[1;33m(\u001b[0m\u001b[1;33m)\u001b[0m\u001b[1;33m\u001b[0m\u001b[1;33m\u001b[0m\u001b[0m\n\u001b[0m\u001b[0;32m    223\u001b[0m         \u001b[0mself\u001b[0m\u001b[1;33m.\u001b[0m\u001b[0mstream_started\u001b[0m \u001b[1;33m=\u001b[0m \u001b[1;32mTrue\u001b[0m\u001b[1;33m\u001b[0m\u001b[1;33m\u001b[0m\u001b[0m\n\u001b[0;32m    224\u001b[0m         \u001b[1;32mwhile\u001b[0m \u001b[1;32mTrue\u001b[0m\u001b[1;33m:\u001b[0m\u001b[1;33m\u001b[0m\u001b[1;33m\u001b[0m\u001b[0m\n",
      "\u001b[1;32m~\\.conda\\envs\\uspenv\\lib\\site-packages\\searchtweets\\result_stream.py\u001b[0m in \u001b[0;36mexecute_request\u001b[1;34m(self)\u001b[0m\n\u001b[0;32m    272\u001b[0m         resp = request(session=self.session,\n\u001b[0;32m    273\u001b[0m                        \u001b[0murl\u001b[0m\u001b[1;33m=\u001b[0m\u001b[0mself\u001b[0m\u001b[1;33m.\u001b[0m\u001b[0mendpoint\u001b[0m\u001b[1;33m,\u001b[0m\u001b[1;33m\u001b[0m\u001b[1;33m\u001b[0m\u001b[0m\n\u001b[1;32m--> 274\u001b[1;33m                        rule_payload=self.rule_payload)\n\u001b[0m\u001b[0;32m    275\u001b[0m         \u001b[0mself\u001b[0m\u001b[1;33m.\u001b[0m\u001b[0mn_requests\u001b[0m \u001b[1;33m+=\u001b[0m \u001b[1;36m1\u001b[0m\u001b[1;33m\u001b[0m\u001b[1;33m\u001b[0m\u001b[0m\n\u001b[0;32m    276\u001b[0m         \u001b[0mResultStream\u001b[0m\u001b[1;33m.\u001b[0m\u001b[0msession_request_counter\u001b[0m \u001b[1;33m+=\u001b[0m \u001b[1;36m1\u001b[0m\u001b[1;33m\u001b[0m\u001b[1;33m\u001b[0m\u001b[0m\n",
      "\u001b[1;32m~\\.conda\\envs\\uspenv\\lib\\site-packages\\searchtweets\\result_stream.py\u001b[0m in \u001b[0;36mretried_func\u001b[1;34m(*args, **kwargs)\u001b[0m\n\u001b[0;32m    113\u001b[0m                 \u001b[0mlogger\u001b[0m\u001b[1;33m.\u001b[0m\u001b[0mwarning\u001b[0m\u001b[1;33m(\u001b[0m\u001b[1;34mf\"Will retry in {sleep_seconds} seconds...\"\u001b[0m\u001b[1;33m)\u001b[0m\u001b[1;33m\u001b[0m\u001b[1;33m\u001b[0m\u001b[0m\n\u001b[0;32m    114\u001b[0m                 \u001b[1;31m#print(f\"Will retry in {sleep_seconds} seconds...\")\u001b[0m\u001b[1;33m\u001b[0m\u001b[1;33m\u001b[0m\u001b[1;33m\u001b[0m\u001b[0m\n\u001b[1;32m--> 115\u001b[1;33m                 \u001b[0mtime\u001b[0m\u001b[1;33m.\u001b[0m\u001b[0msleep\u001b[0m\u001b[1;33m(\u001b[0m\u001b[0msleep_seconds\u001b[0m\u001b[1;33m)\u001b[0m\u001b[1;33m\u001b[0m\u001b[1;33m\u001b[0m\u001b[0m\n\u001b[0m\u001b[0;32m    116\u001b[0m                 \u001b[1;32mcontinue\u001b[0m\u001b[1;33m\u001b[0m\u001b[1;33m\u001b[0m\u001b[0m\n\u001b[0;32m    117\u001b[0m \u001b[1;33m\u001b[0m\u001b[0m\n",
      "\u001b[1;31mKeyboardInterrupt\u001b[0m: "
     ]
    }
   ],
   "source": [
    "import json\n",
    "with open('tweetsData.jsonl', 'a', encoding='utf-8') as f:\n",
    "    for tweet in rs.stream():\n",
    "        json.dump(tweet, f)\n",
    "        f.write('\\n')\n",
    "print('done')"
   ]
  },
  {
   "cell_type": "code",
   "execution_count": null,
   "metadata": {},
   "outputs": [],
   "source": []
  }
 ]
}